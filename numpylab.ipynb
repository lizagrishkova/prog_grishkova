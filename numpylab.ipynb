{
 "cells": [
  {
   "cell_type": "code",
   "execution_count": 2,
   "metadata": {},
   "outputs": [
    {
     "name": "stdout",
     "output_type": "stream",
     "text": [
      "<class 'list'>\n",
      "<class 'numpy.ndarray'>\n",
      "(3,)\n",
      "1 2 3\n",
      "[5 2 3]\n"
     ]
    }
   ],
   "source": [
    "import numpy as np\n",
    "\n",
    "a = np.array([1, 2, 3])\n",
    "print(type([1, 2, 3]))\n",
    "print(type(a))            \n",
    "print(a.shape)            \n",
    "print(a[0], a[1], a[2])   \n",
    "a[0] = 5                  \n",
    "print(a)\n"
   ]
  },
  {
   "cell_type": "code",
   "execution_count": 2,
   "metadata": {},
   "outputs": [
    {
     "name": "stdout",
     "output_type": "stream",
     "text": [
      "(2, 3)\n",
      "[[1 2 3]\n",
      " [4 5 6]]\n",
      "1 2 4\n"
     ]
    }
   ],
   "source": [
    "b = np.array([[1,2,3],[4,5,6]])\n",
    "print(b.shape)\n",
    "print(b)\n",
    "print(b[0, 0], b[0, 1], b[1, 0])"
   ]
  },
  {
   "cell_type": "code",
   "execution_count": 3,
   "metadata": {},
   "outputs": [
    {
     "name": "stdout",
     "output_type": "stream",
     "text": [
      "[[0. 0.]\n",
      " [0. 0.]]\n"
     ]
    }
   ],
   "source": [
    "a = np.zeros((2,2))\n",
    "print(a)\n"
   ]
  },
  {
   "cell_type": "code",
   "execution_count": 4,
   "metadata": {},
   "outputs": [
    {
     "name": "stdout",
     "output_type": "stream",
     "text": [
      "[[1. 1.]]\n"
     ]
    }
   ],
   "source": [
    "b = npc = np.full((2,2), 7)\n",
    "print(c)"
   ]
  },
  {
   "cell_type": "code",
   "execution_count": 5,
   "metadata": {},
   "outputs": [
    {
     "name": "stdout",
     "output_type": "stream",
     "text": [
      "[[7 7]\n",
      " [7 7]]\n"
     ]
    }
   ],
   "source": [
    "c = np.full((2,2), 7)\n",
    "print(c)"
   ]
  },
  {
   "cell_type": "code",
   "execution_count": 6,
   "metadata": {},
   "outputs": [
    {
     "name": "stdout",
     "output_type": "stream",
     "text": [
      "[[1. 0.]\n",
      " [0. 1.]]\n"
     ]
    }
   ],
   "source": [
    "d = np.eye(2)\n",
    "print(d)"
   ]
  },
  {
   "cell_type": "code",
   "execution_count": 7,
   "metadata": {},
   "outputs": [
    {
     "name": "stdout",
     "output_type": "stream",
     "text": [
      "[[0.40190168 0.47137069]\n",
      " [0.80450917 0.09860542]]\n"
     ]
    }
   ],
   "source": [
    "e = np.random.random((2,2))\n",
    "print(e)"
   ]
  },
  {
   "cell_type": "code",
   "execution_count": 19,
   "metadata": {},
   "outputs": [
    {
     "name": "stdout",
     "output_type": "stream",
     "text": [
      "[[ 1  2  3  4]\n",
      " [ 5  6  7  8]\n",
      " [ 9 10 11 12]] \n",
      "\n",
      "[[2 3]\n",
      " [6 7]]\n"
     ]
    }
   ],
   "source": [
    "a = np.array([[1,2,3,4], [5,6,7,8], [9,10,11,12]])\n",
    "print(a, '\\n')\n",
    "b = a[:2, 1:3]\n",
    "print(b)"
   ]
  },
  {
   "cell_type": "code",
   "execution_count": 20,
   "metadata": {},
   "outputs": [
    {
     "name": "stdout",
     "output_type": "stream",
     "text": [
      "[[  1 123   3   4]\n",
      " [  5   6   7   8]\n",
      " [  9  10  11  12]] \n",
      "\n",
      "[[123   3]\n",
      " [  6   7]]\n"
     ]
    }
   ],
   "source": [
    "b[0, 0] = 123\n",
    "print(a, '\\n')\n",
    "print(b)"
   ]
  },
  {
   "cell_type": "code",
   "execution_count": 10,
   "metadata": {},
   "outputs": [
    {
     "name": "stdout",
     "output_type": "stream",
     "text": [
      "[[  1 123   3   4]\n",
      " [  5   6   7   8]\n",
      " [  9  10  11  12]] \n",
      "\n",
      "[[123   3]\n",
      " [  6   7]]\n"
     ]
    }
   ],
   "source": [
    "b[0, 0] = 123\n",
    "print(a, '\\n')\n",
    "print(b)"
   ]
  },
  {
   "cell_type": "code",
   "execution_count": 11,
   "metadata": {},
   "outputs": [
    {
     "name": "stdout",
     "output_type": "stream",
     "text": [
      "[[1 2]\n",
      " [3 4]\n",
      " [5 6]] (3, 2) \n",
      "\n",
      "[1 4 5] (3,)\n"
     ]
    }
   ],
   "source": [
    "a = np.array([[1,2], [3, 4], [5, 6]])\n",
    "b = a[[0, 1, 2], [0, 1, 0]]\n",
    "\n",
    "print(a, a.shape, '\\n')\n",
    "print(b, b.shape)"
   ]
  },
  {
   "cell_type": "code",
   "execution_count": 20,
   "metadata": {},
   "outputs": [
    {
     "data": {
      "image/png": "[encoded data removed]",
      "text/plain": [
       "<Figure size 432x288 with 1 Axes>"
      ]
     },
     "metadata": {
      "needs_background": "light"
     },
     "output_type": "display_data"
    }
   ],
   "source": [
    "import timeit\n",
    "import time\n",
    "import matplotlib.pyplot as plt\n",
    "\n",
    "\n",
    "def python(size_of_vec):\n",
    "    start = time.time()\n",
    "    X = range(size_of_vec)\n",
    "    Y = range(size_of_vec)\n",
    "    Z = [2*X[i]**2 + 4*Y[i] for i in range(len(X)) ]\n",
    "    return time.time() - start\n",
    "\n",
    "def numpy(size_of_vec):\n",
    "    start = time.time()\n",
    "    X = np.arange(size_of_vec)\n",
    "    Y = np.arange(size_of_vec)\n",
    "    Z = 2*X**2 + 4*Y\n",
    "    return time.time() - start\n",
    "\n",
    "n = np.arange(40000, 90000, 5000)\n",
    "tpy = []\n",
    "tnumpy = []\n",
    "for i in n:\n",
    "    mpy = 0.0\n",
    "    mnumpy = 0.0\n",
    "    for j in range(10): \n",
    "        mpy += python(i)\n",
    "        mnumpy += numpy(i)\n",
    "    tpy.append(mpy/10)    \n",
    "    tnumpy.append(mnumpy/10) \n",
    "plt.plot(n, tpy, n, tnumpy)\n",
    "plt.show()\n"
   ]
  },
  {
   "cell_type": "code",
   "execution_count": 111,
   "metadata": {},
   "outputs": [
    {
     "name": "stdout",
     "output_type": "stream",
     "text": [
      "[ 3  5  7  9 11 13 15 17 19 21 23 25 27 29 31 33 35 37 39 41 43 45 47 49\n",
      " 51 53 55 57 59 61 63 65 67 69 71 73 75]\n",
      "[ 2 -1  4 -1  6 -1  8 -1 10 -1 12 -1 14 -1 16 -1 18 -1 20 -1 22 -1 24 -1\n",
      " 26 -1 28 -1 30 -1 32 -1 34 -1 36 -1 38 -1 40 -1 42 -1 44 -1 46 -1 48 -1\n",
      " 50 -1 52 -1 54 -1 56 -1 58 -1 60 -1 62 -1 64 -1 66 -1 68 -1 70 -1 72 -1\n",
      " 74 -1]\n"
     ]
    }
   ],
   "source": [
    "A = np.arange(2, 76)\n",
    "print(A[A%2==1])\n",
    "A[A%2==1] = -1\n",
    "print(A)"
   ]
  },
  {
   "cell_type": "code",
   "execution_count": 122,
   "metadata": {
    "scrolled": true
   },
   "outputs": [
    {
     "name": "stdout",
     "output_type": "stream",
     "text": [
      "[1 2 3 4 5 6]\n",
      "[1 4 2 5 3 6]\n"
     ]
    }
   ],
   "source": [
    "a = np.array([[1,2,3], [4,5,6]])\n",
    "print(np.reshape(a, 6))\n",
    "print(np.reshape(a, 6, order='F'))\n"
   ]
  },
  {
   "cell_type": "code",
   "execution_count": 123,
   "metadata": {},
   "outputs": [
    {
     "data": {
      "text/plain": [
       "array([[1, 2],\n",
       "       [3, 4],\n",
       "       [5, 6]])"
      ]
     },
     "execution_count": 123,
     "metadata": {},
     "output_type": "execute_result"
    }
   ],
   "source": [
    "np.reshape(a, (3,-1))  "
   ]
  },
  {
   "cell_type": "code",
   "execution_count": 124,
   "metadata": {},
   "outputs": [
    {
     "ename": "TypeError",
     "evalue": "array() missing required argument 'object' (pos 1)",
     "output_type": "error",
     "traceback": [
      "\u001b[1;31m---------------------------------------------------------------------------\u001b[0m",
      "\u001b[1;31mTypeError\u001b[0m                                 Traceback (most recent call last)",
      "\u001b[1;32m<ipython-input-124-13c51707fc96>\u001b[0m in \u001b[0;36m<module>\u001b[1;34m\u001b[0m\n\u001b[1;32m----> 1\u001b[1;33m \u001b[0ma\u001b[0m \u001b[1;33m=\u001b[0m \u001b[0mnp\u001b[0m\u001b[1;33m.\u001b[0m\u001b[0marray\u001b[0m\u001b[1;33m(\u001b[0m\u001b[1;33m)\u001b[0m\u001b[1;33m\u001b[0m\u001b[1;33m\u001b[0m\u001b[0m\n\u001b[0m",
      "\u001b[1;31mTypeError\u001b[0m: array() missing required argument 'object' (pos 1)"
     ]
    }
   ],
   "source": []
  },
  {
   "cell_type": "code",
   "execution_count": 62,
   "metadata": {},
   "outputs": [
    {
     "name": "stdout",
     "output_type": "stream",
     "text": [
      "66\n",
      "[[30 14 67 ... 96 82 12]\n",
      " [70 75 66 ... 42 87 64]\n",
      " [80 74 52 ...  2 84 51]\n",
      " ...\n",
      " [39 35 90 ... 50 22 71]\n",
      " [74 23 57 ... 39 90 66]\n",
      " [73 60 93 ... 10 10 11]]\n"
     ]
    }
   ],
   "source": [
    "import random\n",
    "n = random.randint(10, 100)\n",
    "print(n)\n",
    "a = np.random.randint(0, 100, (n, n))\n",
    "print(a)"
   ]
  },
  {
   "cell_type": "code",
   "execution_count": 63,
   "metadata": {},
   "outputs": [
    {
     "name": "stdout",
     "output_type": "stream",
     "text": [
      "218954\n"
     ]
    }
   ],
   "source": [
    "sm = np.sum(a)\n",
    "print(sm)"
   ]
  },
  {
   "cell_type": "code",
   "execution_count": 64,
   "metadata": {},
   "outputs": [
    {
     "name": "stdout",
     "output_type": "stream",
     "text": [
      "99\n",
      "[[0.3030303  0.14141414 0.67676768 ... 0.96969697 0.82828283 0.12121212]\n",
      " [0.70707071 0.75757576 0.66666667 ... 0.42424242 0.87878788 0.64646465]\n",
      " [0.80808081 0.74747475 0.52525253 ... 0.02020202 0.84848485 0.51515152]\n",
      " ...\n",
      " [0.39393939 0.35353535 0.90909091 ... 0.50505051 0.22222222 0.71717172]\n",
      " [0.74747475 0.23232323 0.57575758 ... 0.39393939 0.90909091 0.66666667]\n",
      " [0.73737374 0.60606061 0.93939394 ... 0.1010101  0.1010101  0.11111111]]\n"
     ]
    }
   ],
   "source": [
    "mx = np.max(a)\n",
    "print(mx)\n",
    "a = a/mx\n",
    "print(a)"
   ]
  },
  {
   "cell_type": "code",
   "execution_count": 65,
   "metadata": {},
   "outputs": [
    {
     "name": "stdout",
     "output_type": "stream",
     "text": [
      "[[-0.1758494  -0.33746556  0.19788797 ...  0.49081726  0.34940312\n",
      "  -0.35766758]\n",
      " [ 0.14692378  0.19742883  0.10651974 ... -0.1359045   0.31864096\n",
      "   0.08631772]\n",
      " [ 0.2473217   0.18671564 -0.03550658 ... -0.54055709  0.28772574\n",
      "  -0.04560759]\n",
      " ...\n",
      " [-0.11799816 -0.1584022   0.39715335 ... -0.00688705 -0.28971534\n",
      "   0.20523416]\n",
      " [ 0.24165901 -0.2734925   0.06994184 ... -0.11187634  0.40327518\n",
      "   0.16085093]\n",
      " [ 0.19681665  0.06550352  0.39883685 ... -0.43954699 -0.43954699\n",
      "  -0.42944597]]\n"
     ]
    }
   ],
   "source": [
    "a = a - a.mean(axis=1).reshape(-1, 1)\n",
    "print(a)"
   ]
  },
  {
   "cell_type": "code",
   "execution_count": 66,
   "metadata": {},
   "outputs": [
    {
     "name": "stdout",
     "output_type": "stream",
     "text": [
      "[[-0.1758494  -0.33746556  0.19788797 ...  0.49081726  0.34940312\n",
      "  -0.35766758]\n",
      " [ 0.14692378  0.19742883  0.10651974 ... -0.1359045   0.31864096\n",
      "   0.08631772]\n",
      " [ 0.2473217   0.18671564 -0.03550658 ... -0.54055709  0.28772574\n",
      "  -0.04560759]\n",
      " ...\n",
      " [-0.11799816 -0.1584022   0.39715335 ... -0.00688705 -0.28971534\n",
      "   0.20523416]\n",
      " [ 0.24165901 -0.2734925   0.06994184 ... -0.11187634  0.40327518\n",
      "   0.16085093]\n",
      " [ 0.19681665  0.06550352  0.39883685 ... -0.43954699 -0.43954699\n",
      "  -0.42944597]]\n"
     ]
    }
   ],
   "source": [
    "a[a==mx] = -1\n",
    "print(a)"
   ]
  },
  {
   "cell_type": "code",
   "execution_count": 18,
   "metadata": {},
   "outputs": [
    {
     "data": {
      "image/png": "[encoded data removed]",
      "text/plain": [
       "<Figure size 432x288 with 1 Axes>"
      ]
     },
     "metadata": {
      "needs_background": "light"
     },
     "output_type": "display_data"
    }
   ],
   "source": [
    "import timeit\n",
    "import time\n",
    "import matplotlib.pyplot as plt\n",
    "import numpy as np\n",
    "import random\n",
    "\n",
    "def python(n):\n",
    "    start = time.time()\n",
    "    A = [[random.randint(0, 20) for j in range(n)] for i in range(n)] \n",
    "    B = [[random.randint(0, 20) for j in range(n)] for i in range(n)] \n",
    "    C = [[0 for i in range(n)] for j in range(n)]\n",
    "    for i in range(n):\n",
    "        for j in range(n):\n",
    "            for k in range(n):\n",
    "                C[i][j] += A[i][k]*B[k][j]\n",
    "    return time.time() - start\n",
    "\n",
    "def numpy(n):\n",
    "    start = time.time()\n",
    "    A = np.random.randint(0, 20, (n, n))\n",
    "    B = np.random.randint(0, 20, (n, n))\n",
    "    C = np.dot(A, B)\n",
    "    return time.time() - start\n",
    "\n",
    "n = np.arange(5, 50, 5)\n",
    "tpy = []\n",
    "tnumpy = []\n",
    "for i in n:\n",
    "    mpy = 0.0\n",
    "    mnumpy = 0.0\n",
    "    for j in range(10): \n",
    "        mpy += python(i)\n",
    "        mnumpy += numpy(i)\n",
    "    tpy.append(mpy/10)    \n",
    "    tnumpy.append(mnumpy/10)    \n",
    "\n",
    "plt.plot(n, tpy, n, tnumpy)\n",
    "plt.show()\n"
   ]
  },
  {
   "cell_type": "code",
   "execution_count": 23,
   "metadata": {},
   "outputs": [
    {
     "name": "stdout",
     "output_type": "stream",
     "text": [
      "the file contains:\n",
      "[1. 2. 3. 4. 5. 6. 7. 8. 9.]\n"
     ]
    }
   ],
   "source": [
    "x = np.arange(1, 10)\n",
    "np.savetxt('test.txt', x, fmt='%.i')\n",
    "a = np.loadtxt(\"test.txt\") \n",
    "  \n",
    "print(\"the file contains:\") \n",
    "print(a)"
   ]
  },
  {
   "cell_type": "code",
   "execution_count": 61,
   "metadata": {},
   "outputs": [
    {
     "name": "stdout",
     "output_type": "stream",
     "text": [
      "[ 6  9  8  7 16  8 24 21  7 17]\n",
      "22\n",
      "21\n"
     ]
    }
   ],
   "source": [
    "def find_nearest(array, value):\n",
    "    idx = (np.abs(array-value)).argmin()\n",
    "    return array[idx]\n",
    "\n",
    "a = np.random.randint(0, 25, 10)\n",
    "print(a)\n",
    "value = random.randint(0, 25)\n",
    "print(value)\n",
    "print(find_nearest(a, value))"
   ]
  },
  {
   "cell_type": "code",
   "execution_count": 29,
   "metadata": {},
   "outputs": [
    {
     "name": "stdout",
     "output_type": "stream",
     "text": [
      "[1 4 5 6 8 9]\n"
     ]
    }
   ],
   "source": [
    "a = np.array([1, 2, 3, 4, 5, 6, 7, 8, 9])\n",
    "b = np.array([3,2,7])\n",
    "c = np.setdiff1d(a,b)\n",
    "\n",
    "print(c)"
   ]
  },
  {
   "cell_type": "code",
   "execution_count": 12,
   "metadata": {},
   "outputs": [
    {
     "name": "stdout",
     "output_type": "stream",
     "text": [
      "[[4 1]\n",
      " [1 2]]\n",
      "[[3 1]\n",
      " [3 1]]\n",
      "[[15  5]\n",
      " [ 9  3]]\n"
     ]
    }
   ],
   "source": [
    "n=2\n",
    "A = np.random.randint(1, 5, (n, n))\n",
    "B = np.random.randint(1, 5, (n, n))\n",
    "C = np.dot(A, B)\n",
    "print(A)\n",
    "print(B)\n",
    "print(C)"
   ]
  },
  {
   "cell_type": "code",
   "execution_count": null,
   "metadata": {},
   "outputs": [],
   "source": []
  }
 ],
 "metadata": {
  "kernelspec": {
   "display_name": "Python 3",
   "language": "python",
   "name": "python3"
  },
  "language_info": {
   "codemirror_mode": {
    "name": "ipython",
    "version": 3
   },
   "file_extension": ".py",
   "mimetype": "text/x-python",
   "name": "python",
   "nbconvert_exporter": "python",
   "pygments_lexer": "ipython3",
   "version": "3.7.1"
  }
 },
 "nbformat": 4,
 "nbformat_minor": 2
}
