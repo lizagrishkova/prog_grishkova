{
 "cells": [
  {
   "cell_type": "code",
   "execution_count": 2,
   "metadata": {},
   "outputs": [
    {
     "name": "stdout",
     "output_type": "stream",
     "text": [
      "<class 'list'>\n",
      "<class 'numpy.ndarray'>\n",
      "(3,)\n",
      "1 2 3\n",
      "[5 2 3]\n"
     ]
    }
   ],
   "source": [
    "import numpy as np\n",
    "\n",
    "a = np.array([1, 2, 3])\n",
    "print(type([1, 2, 3]))\n",
    "print(type(a))            \n",
    "print(a.shape)            \n",
    "print(a[0], a[1], a[2])   \n",
    "a[0] = 5                  \n",
    "print(a)\n"
   ]
  },
  {
   "cell_type": "code",
   "execution_count": 2,
   "metadata": {},
   "outputs": [
    {
     "name": "stdout",
     "output_type": "stream",
     "text": [
      "(2, 3)\n",
      "[[1 2 3]\n",
      " [4 5 6]]\n",
      "1 2 4\n"
     ]
    }
   ],
   "source": [
    "b = np.array([[1,2,3],[4,5,6]])\n",
    "print(b.shape)\n",
    "print(b)\n",
    "print(b[0, 0], b[0, 1], b[1, 0])"
   ]
  },
  {
   "cell_type": "code",
   "execution_count": 3,
   "metadata": {},
   "outputs": [
    {
     "name": "stdout",
     "output_type": "stream",
     "text": [
      "[[0. 0.]\n",
      " [0. 0.]]\n"
     ]
    }
   ],
   "source": [
    "a = np.zeros((2,2))\n",
    "print(a)\n"
   ]
  },
  {
   "cell_type": "code",
   "execution_count": 4,
   "metadata": {},
   "outputs": [
    {
     "name": "stdout",
     "output_type": "stream",
     "text": [
      "[[1. 1.]]\n"
     ]
    }
   ],
   "source": [
    "b = npc = np.full((2,2), 7)\n",
    "print(c)"
   ]
  },
  {
   "cell_type": "code",
   "execution_count": 5,
   "metadata": {},
   "outputs": [
    {
     "name": "stdout",
     "output_type": "stream",
     "text": [
      "[[7 7]\n",
      " [7 7]]\n"
     ]
    }
   ],
   "source": [
    "c = np.full((2,2), 7)\n",
    "print(c)"
   ]
  },
  {
   "cell_type": "code",
   "execution_count": 6,
   "metadata": {},
   "outputs": [
    {
     "name": "stdout",
     "output_type": "stream",
     "text": [
      "[[1. 0.]\n",
      " [0. 1.]]\n"
     ]
    }
   ],
   "source": [
    "d = np.eye(2)\n",
    "print(d)"
   ]
  },
  {
   "cell_type": "code",
   "execution_count": 7,
   "metadata": {},
   "outputs": [
    {
     "name": "stdout",
     "output_type": "stream",
     "text": [
      "[[0.40190168 0.47137069]\n",
      " [0.80450917 0.09860542]]\n"
     ]
    }
   ],
   "source": [
    "e = np.random.random((2,2))\n",
    "print(e)"
   ]
  },
  {
   "cell_type": "code",
   "execution_count": 19,
   "metadata": {},
   "outputs": [
    {
     "name": "stdout",
     "output_type": "stream",
     "text": [
      "[[ 1  2  3  4]\n",
      " [ 5  6  7  8]\n",
      " [ 9 10 11 12]] \n",
      "\n",
      "[[2 3]\n",
      " [6 7]]\n"
     ]
    }
   ],
   "source": [
    "a = np.array([[1,2,3,4], [5,6,7,8], [9,10,11,12]])\n",
    "print(a, '\\n')\n",
    "b = a[:2, 1:3]\n",
    "print(b)"
   ]
  },
  {
   "cell_type": "code",
   "execution_count": 20,
   "metadata": {},
   "outputs": [
    {
     "name": "stdout",
     "output_type": "stream",
     "text": [
      "[[  1 123   3   4]\n",
      " [  5   6   7   8]\n",
      " [  9  10  11  12]] \n",
      "\n",
      "[[123   3]\n",
      " [  6   7]]\n"
     ]
    }
   ],
   "source": [
    "b[0, 0] = 123\n",
    "print(a, '\\n')\n",
    "print(b)"
   ]
  },
  {
   "cell_type": "code",
   "execution_count": 10,
   "metadata": {},
   "outputs": [
    {
     "name": "stdout",
     "output_type": "stream",
     "text": [
      "[[  1 123   3   4]\n",
      " [  5   6   7   8]\n",
      " [  9  10  11  12]] \n",
      "\n",
      "[[123   3]\n",
      " [  6   7]]\n"
     ]
    }
   ],
   "source": [
    "b[0, 0] = 123\n",
    "print(a, '\\n')\n",
    "print(b)"
   ]
  },
  {
   "cell_type": "code",
   "execution_count": 11,
   "metadata": {},
   "outputs": [
    {
     "name": "stdout",
     "output_type": "stream",
     "text": [
      "[[1 2]\n",
      " [3 4]\n",
      " [5 6]] (3, 2) \n",
      "\n",
      "[1 4 5] (3,)\n"
     ]
    }
   ],
   "source": [
    "a = np.array([[1,2], [3, 4], [5, 6]])\n",
    "b = a[[0, 1, 2], [0, 1, 0]]\n",
    "\n",
    "print(a, a.shape, '\\n')\n",
    "print(b, b.shape)"
   ]
  },
  {
   "cell_type": "code",
   "execution_count": 20,
   "metadata": {},
   "outputs": [
    {
     "data": {
      "image/png": "[encoded data removed]",
      "text/plain": [
       "<Figure size 432x288 with 1 Axes>"
      ]
     },
     "metadata": {
      "needs_background": "light"
     },
     "output_type": "display_data"
    }
   ],
   "source": [
    "import timeit\n",
    "import time\n",
    "import matplotlib.pyplot as plt\n",
    "\n",
    "\n",
    "def python(size_of_vec):\n",
    "    start = time.time()\n",
    "    X = range(size_of_vec)\n",
    "    Y = range(size_of_vec)\n",
    "    Z = [2*X[i]**2 + 4*Y[i] for i in range(len(X)) ]\n",
    "    return time.time() - start\n",
    "\n",
    "def numpy(size_of_vec):\n",
    "    start = time.time()\n",
    "    X = np.arange(size_of_vec)\n",
    "    Y = np.arange(size_of_vec)\n",
    "    Z = 2*X**2 + 4*Y\n",
    "    return time.time() - start\n",
    "\n",
    "n = np.arange(40000, 90000, 5000)\n",
    "tpy = []\n",
    "tnumpy = []\n",
    "for i in n:\n",
    "    mpy = 0.0\n",
    "    mnumpy = 0.0\n",
    "    for j in range(10): \n",
    "        mpy += python(i)\n",
    "        mnumpy += numpy(i)\n",
    "    tpy.append(mpy/10)    \n",
    "    tnumpy.append(mnumpy/10) \n",
    "plt.plot(n, tpy, n, tnumpy)\n",
    "plt.show()\n"
   ]
  },
  {
   "cell_type": "code",
   "execution_count": 111,
   "metadata": {},
   "outputs": [
    {
     "name": "stdout",
     "output_type": "stream",
     "text": [
      "[ 3  5  7  9 11 13 15 17 19 21 23 25 27 29 31 33 35 37 39 41 43 45 47 49\n",
      " 51 53 55 57 59 61 63 65 67 69 71 73 75]\n",
      "[ 2 -1  4 -1  6 -1  8 -1 10 -1 12 -1 14 -1 16 -1 18 -1 20 -1 22 -1 24 -1\n",
      " 26 -1 28 -1 30 -1 32 -1 34 -1 36 -1 38 -1 40 -1 42 -1 44 -1 46 -1 48 -1\n",
      " 50 -1 52 -1 54 -1 56 -1 58 -1 60 -1 62 -1 64 -1 66 -1 68 -1 70 -1 72 -1\n",
      " 74 -1]\n"
     ]
    }
   ],
   "source": [
    "A = np.arange(2, 76)\n",
    "print(A[A%2==1])\n",
    "A[A%2==1] = -1\n",
    "print(A)"
   ]
  },
  {
   "cell_type": "code",
   "execution_count": 122,
   "metadata": {
    "scrolled": true
   },
   "outputs": [
    {
     "name": "stdout",
     "output_type": "stream",
     "text": [
      "[1 2 3 4 5 6]\n",
      "[1 4 2 5 3 6]\n"
     ]
    }
   ],
   "source": [
    "a = np.array([[1,2,3], [4,5,6]])\n",
    "print(np.reshape(a, 6))\n",
    "print(np.reshape(a, 6, order='F'))\n"
   ]
  },
  {
   "cell_type": "code",
   "execution_count": 123,
   "metadata": {},
   "outputs": [
    {
     "data": {
      "text/plain": [
       "array([[1, 2],\n",
       "       [3, 4],\n",
       "       [5, 6]])"
      ]
     },
     "execution_count": 123,
     "metadata": {},
     "output_type": "execute_result"
    }
   ],
   "source": [
    "np.reshape(a, (3,-1))  "
   ]
  },
  {
   "cell_type": "code",
   "execution_count": 124,
   "metadata": {},
   "outputs": [
    {
     "ename": "TypeError",
     "evalue": "array() missing required argument 'object' (pos 1)",
     "output_type": "error",
     "traceback": [
      "\u001b[1;31m---------------------------------------------------------------------------\u001b[0m",
      "\u001b[1;31mTypeError\u001b[0m                                 Traceback (most recent call last)",
      "\u001b[1;32m<ipython-input-124-13c51707fc96>\u001b[0m in \u001b[0;36m<module>\u001b[1;34m\u001b[0m\n\u001b[1;32m----> 1\u001b[1;33m \u001b[0ma\u001b[0m \u001b[1;33m=\u001b[0m \u001b[0mnp\u001b[0m\u001b[1;33m.\u001b[0m\u001b[0marray\u001b[0m\u001b[1;33m(\u001b[0m\u001b[1;33m)\u001b[0m\u001b[1;33m\u001b[0m\u001b[1;33m\u001b[0m\u001b[0m\n\u001b[0m",
      "\u001b[1;31mTypeError\u001b[0m: array() missing required argument 'object' (pos 1)"
     ]
    }
   ],
   "source": [
    "a = np.array()"
   ]
  },
  {
   "cell_type": "code",
   "execution_count": 13,
   "metadata": {},
   "outputs": [
    {
     "name": "stdout",
     "output_type": "stream",
     "text": [
      "29\n",
      "[[130  90 117  57  16  67  65 143 152 122  26  93  16 129  48  68 101 146\n",
      "  132 105 128  71  63  46  58 117 137  51 143]\n",
      " [ 31  68  15  68 158  45  70  56  46  80  60 144 154  60 114 146  43  71\n",
      "   80 138 123 123 146 128  70  98   4 101 100]\n",
      " [ 33 142 117 145  89  29 141 126  75 141 113  17   1 107   2 126 127  74\n",
      "  116 155  53  71 134  36  28  42  87 147  12]\n",
      " [ 95 126 104  36  80 101 152  98 152  71 135  57  17 117  83  49  56 135\n",
      "   38  19  11 146  52  29 127 156 118  52 145]\n",
      " [ 16  76 142 110 147  95 141 160  36 116 116  41 128 111  44  61  68   7\n",
      "  148  83  68 144 147  15 127  66  66  17  51]\n",
      " [ 79  23  56  44  24   2 139  96 123 104 144 115  92 106  36  36  41 150\n",
      "   86   5  35 107  23  62  51 142  64  33  99]\n",
      " [  9  54 157  58 149  27  72  38  41 153 160 122 107 113  69 146  86  37\n",
      "   48  87 131 101  15 144  25  31  12  67 115]\n",
      " [ 81 124 122   4   6   5  82  40  94  10  62 156 117 102  63 133  72  61\n",
      "   80  64  11  92  78 153 131 117 100 101 107]\n",
      " [141 118  79 161 123  69 110 146  34  88  36  54  37  80 115  49  47  11\n",
      "   23 122 117  94 145  11 108  13 144 104  43]\n",
      " [ 91  12  51  18 103  24  92  80  67  11  67   9 119  32 111 121  71  95\n",
      "  150  85  48 144  96  37 149 131 163 144  65]\n",
      " [107  15 106 128  68 127   9  20  49  94  59  64   2  73  32  53  74  24\n",
      "  113  57  20 137 128 156 111  77  81 146  60]\n",
      " [ 71  15  93  59  67  85 134 129  99  42  65  34 142 159 118  24  90  77\n",
      "  163  36  44  64  49 133 122 102 126  60  19]\n",
      " [ 60  18 143  26  39   5  78 116 106  50  96  12 160 134  24  47  41  22\n",
      "   39  82  48  78   4  28 112  42  47  93  86]\n",
      " [ 11  86 121 137   9 132  20  69  21   2  68 138  94  11 112 162  95   5\n",
      "  130 126  35  60 114  58  79 150 143  27  56]\n",
      " [153 143  44  80 119  99  26  84  61 155  16  75 122  72  40  50   5  18\n",
      "  130 128  16 110  19  89 108 108 135  78 145]\n",
      " [ 65 126  49  30 151 133  38  69  45  38  31  54  77  14  86  82   4 150\n",
      "   41 123 120  25  81  47  12 160  98 102  82]\n",
      " [ 45   9 125  89 158 159 135  15 150  38  14  82 163  32 110  75  96  51\n",
      "  143 135 136 154  65  97  95 149  95  49 113]\n",
      " [ 73 136  75 112 135  86  50  32 136 138  34  63  32  19 142  17  74  50\n",
      "    8  15 140 156 150 155  85 134  17  15  73]\n",
      " [ 37  17 130  58 113 134  23   0  19 151 127  23 101  27  30 118  73   0\n",
      "  118 101  82  99  81 140  78  86  28  81  82]\n",
      " [ 33 138 114  76 114  37  69  30 104 130  70  79 128  38 131  85  18  94\n",
      "  103 115  42  91 147  28 154  68  27  38  36]\n",
      " [ 38  54  23   6  51 137  23  75  49 102 110  91   8  68 116  44  50  15\n",
      "   98 122  50 104 103   3  85   9  53 119 139]\n",
      " [129  20  95  12 124 146 132  15   2 103   0  98 132   5  93  69  48  65\n",
      "  115  61 106  54  28 129 112 131  89 145  96]\n",
      " [ 35 149 136  53 157 147 158  15 107  44  70  22 145  22  96 131 132  51\n",
      "  133  16  79 134   3 163 150  90  16   4  51]\n",
      " [ 18 134  18  77 156   0  81 154  10 145  96  63  12  33 117  16 103 150\n",
      "   70  70  89  70 156 143  78 144  23  36  97]\n",
      " [  7  75  46 142 117  77  93 123 131  11  23 113  54 144 102  28  98  68\n",
      "   93 132  17 120 142 112  48 104  48 101  89]\n",
      " [109 114  31  16 158  86 150  34 159  26 152  98 123   8 151 121 151 137\n",
      "   39 156  84  11 147 108 134 149 158  91  11]\n",
      " [148 124 131  11  95  19 138  20 131  50 110  22  68  32  91  71  52  45\n",
      "  112  92  47  82 135   6 116  59  89  19 127]\n",
      " [158 138  93  95  53  80  80 102 148  55 150 100  17  58 143 149  23  44\n",
      "  116  65  94  74  51 143  87  93  18 145 126]\n",
      " [ 20 162  50  26 118 155  82 123  78  66  81  95 134  39  19 153  20  96\n",
      "   58  80  37   4 146 116 131 140  52  81 158]]\n"
     ]
    }
   ],
   "source": [
    "import random\n",
    "n = random.randint(10, 100)\n",
    "print(n)\n",
    "a = np.random.choice(random.randint(0, 200), n*n)\n",
    "a = np.reshape(a, [n, n])\n",
    "print(a)"
   ]
  },
  {
   "cell_type": "code",
   "execution_count": 14,
   "metadata": {},
   "outputs": [
    {
     "name": "stdout",
     "output_type": "stream",
     "text": [
      "69333\n"
     ]
    }
   ],
   "source": [
    "print(np.sum(a))"
   ]
  },
  {
   "cell_type": "code",
   "execution_count": 15,
   "metadata": {},
   "outputs": [
    {
     "name": "stdout",
     "output_type": "stream",
     "text": [
      "163\n",
      "[[4.89292032e-03 3.38740638e-03 4.40362829e-03 2.14535737e-03\n",
      "  6.02205578e-04 2.52173586e-03 2.44646016e-03 5.38221235e-03\n",
      "  5.72095299e-03 4.59181753e-03 9.78584064e-04 3.50031992e-03\n",
      "  6.02205578e-04 4.85528247e-03 1.80661673e-03 2.55937371e-03\n",
      "  3.80142271e-03 5.49512590e-03 4.96819602e-03 3.95197411e-03\n",
      "  4.81764462e-03 2.67228725e-03 2.37118446e-03 1.73134104e-03\n",
      "  2.18299522e-03 4.40362829e-03 5.15638526e-03 1.91953028e-03\n",
      "  5.38221235e-03]\n",
      " [1.16677331e-03 2.55937371e-03 5.64567729e-04 2.55937371e-03\n",
      "  5.94678008e-03 1.69370319e-03 2.63464940e-03 2.10771952e-03\n",
      "  1.73134104e-03 3.01102789e-03 2.25827092e-03 5.41985020e-03\n",
      "  5.79622869e-03 2.25827092e-03 4.29071474e-03 5.49512590e-03\n",
      "  1.61842749e-03 2.67228725e-03 3.01102789e-03 5.19402311e-03\n",
      "  4.62945538e-03 4.62945538e-03 5.49512590e-03 4.81764462e-03\n",
      "  2.63464940e-03 3.68850916e-03 1.50551394e-04 3.80142271e-03\n",
      "  3.76378486e-03]\n",
      " [1.24204900e-03 5.34457450e-03 4.40362829e-03 5.45748805e-03\n",
      "  3.34976853e-03 1.09149761e-03 5.30693666e-03 4.74236893e-03\n",
      "  2.82283865e-03 5.30693666e-03 4.25307689e-03 6.39843427e-04\n",
      "  3.76378486e-05 4.02724980e-03 7.52756972e-05 4.74236893e-03\n",
      "  4.78000677e-03 2.78520080e-03 4.36599044e-03 5.83386654e-03\n",
      "  1.99480598e-03 2.67228725e-03 5.04347172e-03 1.35496255e-03\n",
      "  1.05385976e-03 1.58078964e-03 3.27449283e-03 5.53276375e-03\n",
      "  4.51654183e-04]\n",
      " [3.57559562e-03 4.74236893e-03 3.91433626e-03 1.35496255e-03\n",
      "  3.01102789e-03 3.80142271e-03 5.72095299e-03 3.68850916e-03\n",
      "  5.72095299e-03 2.67228725e-03 5.08110956e-03 2.14535737e-03\n",
      "  6.39843427e-04 4.40362829e-03 3.12394144e-03 1.84425458e-03\n",
      "  2.10771952e-03 5.08110956e-03 1.43023825e-03 7.15119124e-04\n",
      "  4.14016335e-04 5.49512590e-03 1.95716813e-03 1.09149761e-03\n",
      "  4.78000677e-03 5.87150438e-03 4.44126614e-03 1.95716813e-03\n",
      "  5.45748805e-03]\n",
      " [6.02205578e-04 2.86047650e-03 5.34457450e-03 4.14016335e-03\n",
      "  5.53276375e-03 3.57559562e-03 5.30693666e-03 6.02205578e-03\n",
      "  1.35496255e-03 4.36599044e-03 4.36599044e-03 1.54315179e-03\n",
      "  4.81764462e-03 4.17780120e-03 1.65606534e-03 2.29590877e-03\n",
      "  2.55937371e-03 2.63464940e-04 5.57040160e-03 3.12394144e-03\n",
      "  2.55937371e-03 5.41985020e-03 5.53276375e-03 5.64567729e-04\n",
      "  4.78000677e-03 2.48409801e-03 2.48409801e-03 6.39843427e-04\n",
      "  1.91953028e-03]\n",
      " [2.97339004e-03 8.65670518e-04 2.10771952e-03 1.65606534e-03\n",
      "  9.03308367e-04 7.52756972e-05 5.23166096e-03 3.61323347e-03\n",
      "  4.62945538e-03 3.91433626e-03 5.41985020e-03 4.32835259e-03\n",
      "  3.46268207e-03 3.98961195e-03 1.35496255e-03 1.35496255e-03\n",
      "  1.54315179e-03 5.64567729e-03 3.23685498e-03 1.88189243e-04\n",
      "  1.31732470e-03 4.02724980e-03 8.65670518e-04 2.33354661e-03\n",
      "  1.91953028e-03 5.34457450e-03 2.40882231e-03 1.24204900e-03\n",
      "  3.72614701e-03]\n",
      " [3.38740638e-04 2.03244383e-03 5.90914223e-03 2.18299522e-03\n",
      "  5.60803944e-03 1.01622191e-03 2.70992510e-03 1.43023825e-03\n",
      "  1.54315179e-03 5.75859084e-03 6.02205578e-03 4.59181753e-03\n",
      "  4.02724980e-03 4.25307689e-03 2.59701155e-03 5.49512590e-03\n",
      "  3.23685498e-03 1.39260040e-03 1.80661673e-03 3.27449283e-03\n",
      "  4.93055817e-03 3.80142271e-03 5.64567729e-04 5.41985020e-03\n",
      "  9.40946216e-04 1.16677331e-03 4.51654183e-04 2.52173586e-03\n",
      "  4.32835259e-03]\n",
      " [3.04866574e-03 4.66709323e-03 4.59181753e-03 1.50551394e-04\n",
      "  2.25827092e-04 1.88189243e-04 3.08630359e-03 1.50551394e-03\n",
      "  3.53795777e-03 3.76378486e-04 2.33354661e-03 5.87150438e-03\n",
      "  4.40362829e-03 3.83906056e-03 2.37118446e-03 5.00583387e-03\n",
      "  2.70992510e-03 2.29590877e-03 3.01102789e-03 2.40882231e-03\n",
      "  4.14016335e-04 3.46268207e-03 2.93575219e-03 5.75859084e-03\n",
      "  4.93055817e-03 4.40362829e-03 3.76378486e-03 3.80142271e-03\n",
      "  4.02724980e-03]\n",
      " [5.30693666e-03 4.44126614e-03 2.97339004e-03 6.05969363e-03\n",
      "  4.62945538e-03 2.59701155e-03 4.14016335e-03 5.49512590e-03\n",
      "  1.27968685e-03 3.31213068e-03 1.35496255e-03 2.03244383e-03\n",
      "  1.39260040e-03 3.01102789e-03 4.32835259e-03 1.84425458e-03\n",
      "  1.76897889e-03 4.14016335e-04 8.65670518e-04 4.59181753e-03\n",
      "  4.40362829e-03 3.53795777e-03 5.45748805e-03 4.14016335e-04\n",
      "  4.06488765e-03 4.89292032e-04 5.41985020e-03 3.91433626e-03\n",
      "  1.61842749e-03]\n",
      " [3.42504422e-03 4.51654183e-04 1.91953028e-03 6.77481275e-04\n",
      "  3.87669841e-03 9.03308367e-04 3.46268207e-03 3.01102789e-03\n",
      "  2.52173586e-03 4.14016335e-04 2.52173586e-03 3.38740638e-04\n",
      "  4.47890399e-03 1.20441116e-03 4.17780120e-03 4.55417968e-03\n",
      "  2.67228725e-03 3.57559562e-03 5.64567729e-03 3.19921713e-03\n",
      "  1.80661673e-03 5.41985020e-03 3.61323347e-03 1.39260040e-03\n",
      "  5.60803944e-03 4.93055817e-03 6.13496933e-03 5.41985020e-03\n",
      "  2.44646016e-03]\n",
      " [4.02724980e-03 5.64567729e-04 3.98961195e-03 4.81764462e-03\n",
      "  2.55937371e-03 4.78000677e-03 3.38740638e-04 7.52756972e-04\n",
      "  1.84425458e-03 3.53795777e-03 2.22063307e-03 2.40882231e-03\n",
      "  7.52756972e-05 2.74756295e-03 1.20441116e-03 1.99480598e-03\n",
      "  2.78520080e-03 9.03308367e-04 4.25307689e-03 2.14535737e-03\n",
      "  7.52756972e-04 5.15638526e-03 4.81764462e-03 5.87150438e-03\n",
      "  4.17780120e-03 2.89811434e-03 3.04866574e-03 5.49512590e-03\n",
      "  2.25827092e-03]\n",
      " [2.67228725e-03 5.64567729e-04 3.50031992e-03 2.22063307e-03\n",
      "  2.52173586e-03 3.19921713e-03 5.04347172e-03 4.85528247e-03\n",
      "  3.72614701e-03 1.58078964e-03 2.44646016e-03 1.27968685e-03\n",
      "  5.34457450e-03 5.98441793e-03 4.44126614e-03 9.03308367e-04\n",
      "  3.38740638e-03 2.89811434e-03 6.13496933e-03 1.35496255e-03\n",
      "  1.65606534e-03 2.40882231e-03 1.84425458e-03 5.00583387e-03\n",
      "  4.59181753e-03 3.83906056e-03 4.74236893e-03 2.25827092e-03\n",
      "  7.15119124e-04]\n",
      " [2.25827092e-03 6.77481275e-04 5.38221235e-03 9.78584064e-04\n",
      "  1.46787610e-03 1.88189243e-04 2.93575219e-03 4.36599044e-03\n",
      "  3.98961195e-03 1.88189243e-03 3.61323347e-03 4.51654183e-04\n",
      "  6.02205578e-03 5.04347172e-03 9.03308367e-04 1.76897889e-03\n",
      "  1.54315179e-03 8.28032670e-04 1.46787610e-03 3.08630359e-03\n",
      "  1.80661673e-03 2.93575219e-03 1.50551394e-04 1.05385976e-03\n",
      "  4.21543905e-03 1.58078964e-03 1.76897889e-03 3.50031992e-03\n",
      "  3.23685498e-03]\n",
      " [4.14016335e-04 3.23685498e-03 4.55417968e-03 5.15638526e-03\n",
      "  3.38740638e-04 4.96819602e-03 7.52756972e-04 2.59701155e-03\n",
      "  7.90394821e-04 7.52756972e-05 2.55937371e-03 5.19402311e-03\n",
      "  3.53795777e-03 4.14016335e-04 4.21543905e-03 6.09733148e-03\n",
      "  3.57559562e-03 1.88189243e-04 4.89292032e-03 4.74236893e-03\n",
      "  1.31732470e-03 2.25827092e-03 4.29071474e-03 2.18299522e-03\n",
      "  2.97339004e-03 5.64567729e-03 5.38221235e-03 1.01622191e-03\n",
      "  2.10771952e-03]\n",
      " [5.75859084e-03 5.38221235e-03 1.65606534e-03 3.01102789e-03\n",
      "  4.47890399e-03 3.72614701e-03 9.78584064e-04 3.16157928e-03\n",
      "  2.29590877e-03 5.83386654e-03 6.02205578e-04 2.82283865e-03\n",
      "  4.59181753e-03 2.70992510e-03 1.50551394e-03 1.88189243e-03\n",
      "  1.88189243e-04 6.77481275e-04 4.89292032e-03 4.81764462e-03\n",
      "  6.02205578e-04 4.14016335e-03 7.15119124e-04 3.34976853e-03\n",
      "  4.06488765e-03 4.06488765e-03 5.08110956e-03 2.93575219e-03\n",
      "  5.45748805e-03]\n",
      " [2.44646016e-03 4.74236893e-03 1.84425458e-03 1.12913546e-03\n",
      "  5.68331514e-03 5.00583387e-03 1.43023825e-03 2.59701155e-03\n",
      "  1.69370319e-03 1.43023825e-03 1.16677331e-03 2.03244383e-03\n",
      "  2.89811434e-03 5.26929881e-04 3.23685498e-03 3.08630359e-03\n",
      "  1.50551394e-04 5.64567729e-03 1.54315179e-03 4.62945538e-03\n",
      "  4.51654183e-03 9.40946216e-04 3.04866574e-03 1.76897889e-03\n",
      "  4.51654183e-04 6.02205578e-03 3.68850916e-03 3.83906056e-03\n",
      "  3.08630359e-03]\n",
      " [1.69370319e-03 3.38740638e-04 4.70473108e-03 3.34976853e-03\n",
      "  5.94678008e-03 5.98441793e-03 5.08110956e-03 5.64567729e-04\n",
      "  5.64567729e-03 1.43023825e-03 5.26929881e-04 3.08630359e-03\n",
      "  6.13496933e-03 1.20441116e-03 4.14016335e-03 2.82283865e-03\n",
      "  3.61323347e-03 1.91953028e-03 5.38221235e-03 5.08110956e-03\n",
      "  5.11874741e-03 5.79622869e-03 2.44646016e-03 3.65087132e-03\n",
      "  3.57559562e-03 5.60803944e-03 3.57559562e-03 1.84425458e-03\n",
      "  4.25307689e-03]\n",
      " [2.74756295e-03 5.11874741e-03 2.82283865e-03 4.21543905e-03\n",
      "  5.08110956e-03 3.23685498e-03 1.88189243e-03 1.20441116e-03\n",
      "  5.11874741e-03 5.19402311e-03 1.27968685e-03 2.37118446e-03\n",
      "  1.20441116e-03 7.15119124e-04 5.34457450e-03 6.39843427e-04\n",
      "  2.78520080e-03 1.88189243e-03 3.01102789e-04 5.64567729e-04\n",
      "  5.26929881e-03 5.87150438e-03 5.64567729e-03 5.83386654e-03\n",
      "  3.19921713e-03 5.04347172e-03 6.39843427e-04 5.64567729e-04\n",
      "  2.74756295e-03]\n",
      " [1.39260040e-03 6.39843427e-04 4.89292032e-03 2.18299522e-03\n",
      "  4.25307689e-03 5.04347172e-03 8.65670518e-04 0.00000000e+00\n",
      "  7.15119124e-04 5.68331514e-03 4.78000677e-03 8.65670518e-04\n",
      "  3.80142271e-03 1.01622191e-03 1.12913546e-03 4.44126614e-03\n",
      "  2.74756295e-03 0.00000000e+00 4.44126614e-03 3.80142271e-03\n",
      "  3.08630359e-03 3.72614701e-03 3.04866574e-03 5.26929881e-03\n",
      "  2.93575219e-03 3.23685498e-03 1.05385976e-03 3.04866574e-03\n",
      "  3.08630359e-03]\n",
      " [1.24204900e-03 5.19402311e-03 4.29071474e-03 2.86047650e-03\n",
      "  4.29071474e-03 1.39260040e-03 2.59701155e-03 1.12913546e-03\n",
      "  3.91433626e-03 4.89292032e-03 2.63464940e-03 2.97339004e-03\n",
      "  4.81764462e-03 1.43023825e-03 4.93055817e-03 3.19921713e-03\n",
      "  6.77481275e-04 3.53795777e-03 3.87669841e-03 4.32835259e-03\n",
      "  1.58078964e-03 3.42504422e-03 5.53276375e-03 1.05385976e-03\n",
      "  5.79622869e-03 2.55937371e-03 1.01622191e-03 1.43023825e-03\n",
      "  1.35496255e-03]\n",
      " [1.43023825e-03 2.03244383e-03 8.65670518e-04 2.25827092e-04\n",
      "  1.91953028e-03 5.15638526e-03 8.65670518e-04 2.82283865e-03\n",
      "  1.84425458e-03 3.83906056e-03 4.14016335e-03 3.42504422e-03\n",
      "  3.01102789e-04 2.55937371e-03 4.36599044e-03 1.65606534e-03\n",
      "  1.88189243e-03 5.64567729e-04 3.68850916e-03 4.59181753e-03\n",
      "  1.88189243e-03 3.91433626e-03 3.87669841e-03 1.12913546e-04\n",
      "  3.19921713e-03 3.38740638e-04 1.99480598e-03 4.47890399e-03\n",
      "  5.23166096e-03]\n",
      " [4.85528247e-03 7.52756972e-04 3.57559562e-03 4.51654183e-04\n",
      "  4.66709323e-03 5.49512590e-03 4.96819602e-03 5.64567729e-04\n",
      "  7.52756972e-05 3.87669841e-03 0.00000000e+00 3.68850916e-03\n",
      "  4.96819602e-03 1.88189243e-04 3.50031992e-03 2.59701155e-03\n",
      "  1.80661673e-03 2.44646016e-03 4.32835259e-03 2.29590877e-03\n",
      "  3.98961195e-03 2.03244383e-03 1.05385976e-03 4.85528247e-03\n",
      "  4.21543905e-03 4.93055817e-03 3.34976853e-03 5.45748805e-03\n",
      "  3.61323347e-03]\n",
      " [1.31732470e-03 5.60803944e-03 5.11874741e-03 1.99480598e-03\n",
      "  5.90914223e-03 5.53276375e-03 5.94678008e-03 5.64567729e-04\n",
      "  4.02724980e-03 1.65606534e-03 2.63464940e-03 8.28032670e-04\n",
      "  5.45748805e-03 8.28032670e-04 3.61323347e-03 4.93055817e-03\n",
      "  4.96819602e-03 1.91953028e-03 5.00583387e-03 6.02205578e-04\n",
      "  2.97339004e-03 5.04347172e-03 1.12913546e-04 6.13496933e-03\n",
      "  5.64567729e-03 3.38740638e-03 6.02205578e-04 1.50551394e-04\n",
      "  1.91953028e-03]\n",
      " [6.77481275e-04 5.04347172e-03 6.77481275e-04 2.89811434e-03\n",
      "  5.87150438e-03 0.00000000e+00 3.04866574e-03 5.79622869e-03\n",
      "  3.76378486e-04 5.45748805e-03 3.61323347e-03 2.37118446e-03\n",
      "  4.51654183e-04 1.24204900e-03 4.40362829e-03 6.02205578e-04\n",
      "  3.87669841e-03 5.64567729e-03 2.63464940e-03 2.63464940e-03\n",
      "  3.34976853e-03 2.63464940e-03 5.87150438e-03 5.38221235e-03\n",
      "  2.93575219e-03 5.41985020e-03 8.65670518e-04 1.35496255e-03\n",
      "  3.65087132e-03]\n",
      " [2.63464940e-04 2.82283865e-03 1.73134104e-03 5.34457450e-03\n",
      "  4.40362829e-03 2.89811434e-03 3.50031992e-03 4.62945538e-03\n",
      "  4.93055817e-03 4.14016335e-04 8.65670518e-04 4.25307689e-03\n",
      "  2.03244383e-03 5.41985020e-03 3.83906056e-03 1.05385976e-03\n",
      "  3.68850916e-03 2.55937371e-03 3.50031992e-03 4.96819602e-03\n",
      "  6.39843427e-04 4.51654183e-03 5.34457450e-03 4.21543905e-03\n",
      "  1.80661673e-03 3.91433626e-03 1.80661673e-03 3.80142271e-03\n",
      "  3.34976853e-03]\n",
      " [4.10252550e-03 4.29071474e-03 1.16677331e-03 6.02205578e-04\n",
      "  5.94678008e-03 3.23685498e-03 5.64567729e-03 1.27968685e-03\n",
      "  5.98441793e-03 9.78584064e-04 5.72095299e-03 3.68850916e-03\n",
      "  4.62945538e-03 3.01102789e-04 5.68331514e-03 4.55417968e-03\n",
      "  5.68331514e-03 5.15638526e-03 1.46787610e-03 5.87150438e-03\n",
      "  3.16157928e-03 4.14016335e-04 5.53276375e-03 4.06488765e-03\n",
      "  5.04347172e-03 5.60803944e-03 5.94678008e-03 3.42504422e-03\n",
      "  4.14016335e-04]\n",
      " [5.57040160e-03 4.66709323e-03 4.93055817e-03 4.14016335e-04\n",
      "  3.57559562e-03 7.15119124e-04 5.19402311e-03 7.52756972e-04\n",
      "  4.93055817e-03 1.88189243e-03 4.14016335e-03 8.28032670e-04\n",
      "  2.55937371e-03 1.20441116e-03 3.42504422e-03 2.67228725e-03\n",
      "  1.95716813e-03 1.69370319e-03 4.21543905e-03 3.46268207e-03\n",
      "  1.76897889e-03 3.08630359e-03 5.08110956e-03 2.25827092e-04\n",
      "  4.36599044e-03 2.22063307e-03 3.34976853e-03 7.15119124e-04\n",
      "  4.78000677e-03]\n",
      " [5.94678008e-03 5.19402311e-03 3.50031992e-03 3.57559562e-03\n",
      "  1.99480598e-03 3.01102789e-03 3.01102789e-03 3.83906056e-03\n",
      "  5.57040160e-03 2.07008167e-03 5.64567729e-03 3.76378486e-03\n",
      "  6.39843427e-04 2.18299522e-03 5.38221235e-03 5.60803944e-03\n",
      "  8.65670518e-04 1.65606534e-03 4.36599044e-03 2.44646016e-03\n",
      "  3.53795777e-03 2.78520080e-03 1.91953028e-03 5.38221235e-03\n",
      "  3.27449283e-03 3.50031992e-03 6.77481275e-04 5.45748805e-03\n",
      "  4.74236893e-03]\n",
      " [7.52756972e-04 6.09733148e-03 1.88189243e-03 9.78584064e-04\n",
      "  4.44126614e-03 5.83386654e-03 3.08630359e-03 4.62945538e-03\n",
      "  2.93575219e-03 2.48409801e-03 3.04866574e-03 3.57559562e-03\n",
      "  5.04347172e-03 1.46787610e-03 7.15119124e-04 5.75859084e-03\n",
      "  7.52756972e-04 3.61323347e-03 2.18299522e-03 3.01102789e-03\n",
      "  1.39260040e-03 1.50551394e-04 5.49512590e-03 4.36599044e-03\n",
      "  4.93055817e-03 5.26929881e-03 1.95716813e-03 3.04866574e-03\n",
      "  5.94678008e-03]]\n"
     ]
    }
   ],
   "source": [
    "mx = np.max(a)\n",
    "print(mx)\n",
    "a = a/mx\n",
    "print(a/mx)"
   ]
  },
  {
   "cell_type": "code",
   "execution_count": 16,
   "metadata": {},
   "outputs": [
    {
     "name": "stdout",
     "output_type": "stream",
     "text": [
      "[[ 2.39686905e-01 -5.71186799e-03  1.59932304e-01 -2.08165856e-01\n",
      "  -4.59699598e-01 -1.46816162e-01 -1.59086101e-01  3.19441506e-01\n",
      "   3.74656230e-01  1.90607150e-01 -3.98349905e-01  1.26930400e-02\n",
      "  -4.59699598e-01  2.33551936e-01 -2.63380580e-01 -1.40681193e-01\n",
      "   6.17727946e-02  3.37846414e-01  2.51956844e-01  8.63126719e-02\n",
      "   2.27416966e-01 -1.22276285e-01 -1.71356040e-01 -2.75650518e-01\n",
      "  -2.02030886e-01  1.59932304e-01  2.82631690e-01 -2.44975672e-01\n",
      "   3.19441506e-01]\n",
      " [-3.47154644e-01 -1.20160779e-01 -4.45314153e-01 -1.20160779e-01\n",
      "   4.31986461e-01 -2.61265073e-01 -1.07890840e-01 -1.93780410e-01\n",
      "  -2.55130104e-01 -4.65411466e-02 -1.69240533e-01  3.46096890e-01\n",
      "   4.07446583e-01 -1.69240533e-01  1.62047810e-01  3.58366829e-01\n",
      "  -2.73535012e-01 -1.01755871e-01 -4.65411466e-02  3.09287074e-01\n",
      "   2.17262534e-01  2.17262534e-01  3.58366829e-01  2.47937381e-01\n",
      "  -1.07890840e-01  6.38883012e-02 -5.12798815e-01  8.22932092e-02\n",
      "   7.61582399e-02]\n",
      " [-3.23460969e-01  3.45250688e-01  1.91876454e-01  3.63655596e-01\n",
      "   2.00973133e-02 -3.48000846e-01  3.39115718e-01  2.47091178e-01\n",
      "  -6.57922572e-02  3.39115718e-01  1.67336577e-01 -4.21620478e-01\n",
      "  -5.19779987e-01  1.30526761e-01 -5.13645018e-01  2.47091178e-01\n",
      "   2.53226148e-01 -7.19272266e-02  1.85741485e-01  4.25005289e-01\n",
      "  -2.00761582e-01 -9.03321345e-02  2.96170933e-01 -3.05056061e-01\n",
      "  -3.54135816e-01 -2.68246245e-01  7.82737466e-03  3.75925534e-01\n",
      "  -4.52295325e-01]\n",
      " [ 4.18870319e-02  2.32071081e-01  9.71017559e-02 -3.20076158e-01\n",
      "  -5.01375079e-02  7.86968479e-02  3.91580283e-01  6.02919399e-02\n",
      "   3.91580283e-01 -1.05352232e-01  2.87285805e-01 -1.91241802e-01\n",
      "  -4.36640575e-01  1.76856357e-01 -3.17326000e-02 -2.40321557e-01\n",
      "  -1.97376772e-01  2.87285805e-01 -3.07806220e-01 -4.24370637e-01\n",
      "  -4.73450391e-01  3.54770468e-01 -2.21916649e-01 -3.63020944e-01\n",
      "   2.38206050e-01  4.16120161e-01  1.82991326e-01 -2.21916649e-01\n",
      "   3.48635498e-01]\n",
      " [-4.40660038e-01 -7.25618786e-02  3.32346097e-01  1.36027078e-01\n",
      "   3.63020944e-01  4.40025386e-02  3.26211128e-01  4.42775545e-01\n",
      "  -3.17960652e-01  1.72836894e-01  1.72836894e-01 -2.87285805e-01\n",
      "   2.46456526e-01  1.42162048e-01 -2.68880897e-01 -1.64586418e-01\n",
      "  -1.21641633e-01 -4.95874762e-01  3.69155913e-01 -2.96170933e-02\n",
      "  -1.21641633e-01  3.44616036e-01  3.63020944e-01 -4.46795007e-01\n",
      "   2.40321557e-01 -1.33911572e-01 -1.33911572e-01 -4.34525069e-01\n",
      "  -2.25936112e-01]\n",
      " [ 3.68098160e-02 -3.06748466e-01 -1.04294479e-01 -1.77914110e-01\n",
      "  -3.00613497e-01 -4.35582822e-01  4.04907975e-01  1.41104294e-01\n",
      "   3.06748466e-01  1.90184049e-01  4.35582822e-01  2.57668712e-01\n",
      "   1.16564417e-01  2.02453988e-01 -2.26993865e-01 -2.26993865e-01\n",
      "  -1.96319018e-01  4.72392638e-01  7.97546012e-02 -4.17177914e-01\n",
      "  -2.33128834e-01  2.08588957e-01 -3.06748466e-01 -6.74846626e-02\n",
      "  -1.34969325e-01  4.23312883e-01 -5.52147239e-02 -2.45398773e-01\n",
      "   1.59509202e-01]\n",
      " [-4.47006558e-01 -1.70932938e-01  4.60968902e-01 -1.46393061e-01\n",
      "   4.11889147e-01 -3.36577110e-01 -6.05034906e-02 -2.69092448e-01\n",
      "  -2.50687540e-01  4.36429025e-01  4.79373810e-01  2.46244976e-01\n",
      "   1.54220436e-01  1.91030252e-01 -7.89083986e-02  3.93484239e-01\n",
      "   2.53860800e-02 -2.75227417e-01 -2.07742754e-01  3.15210493e-02\n",
      "   3.01459700e-01  1.17410620e-01 -4.10196742e-01  3.81214301e-01\n",
      "  -3.48847049e-01 -3.12037233e-01 -4.28601650e-01 -9.11783372e-02\n",
      "   2.03300190e-01]\n",
      " [-4.01946266e-03  2.59784218e-01  2.47514280e-01 -4.76412101e-01\n",
      "  -4.64142162e-01 -4.70277131e-01  2.11550666e-03 -2.55553205e-01\n",
      "   7.57351386e-02 -4.39602285e-01 -1.20583880e-01  4.56103237e-01\n",
      "   2.16839433e-01  1.24814893e-01 -1.14448911e-01  3.14998942e-01\n",
      "  -5.92341866e-02 -1.26718849e-01 -1.01544320e-02 -1.08313941e-01\n",
      "  -4.33467315e-01  6.34651999e-02 -2.24243706e-02  4.37698329e-01\n",
      "   3.02729004e-01  2.16839433e-01  1.12544955e-01  1.18679924e-01\n",
      "   1.55489740e-01]\n",
      " [ 3.52654961e-01  2.11550666e-01 -2.77131373e-02  4.75354347e-01\n",
      "   2.42225513e-01 -8.90628305e-02  1.62470912e-01  3.83329807e-01\n",
      "  -3.03786757e-01  2.75015866e-02 -2.91516818e-01 -1.81087370e-01\n",
      "  -2.85381849e-01 -2.15781680e-02  1.93145758e-01 -2.11762217e-01\n",
      "  -2.24032156e-01 -4.44891051e-01 -3.71271420e-01  2.36090544e-01\n",
      "   2.05415697e-01  6.43114026e-02  3.77194838e-01 -4.44891051e-01\n",
      "   1.50200973e-01 -4.32621113e-01  3.71059869e-01  1.25661096e-01\n",
      "  -2.48572033e-01]\n",
      " [ 5.35223186e-02 -4.31140258e-01 -1.91876454e-01 -3.94330442e-01\n",
      "   1.27141950e-01 -3.57520626e-01  5.96572879e-02 -1.39623440e-02\n",
      "  -9.37169452e-02 -4.37275227e-01 -9.37169452e-02 -4.49545166e-01\n",
      "   2.25301460e-01 -3.08440872e-01  1.76221705e-01  2.37571398e-01\n",
      "  -6.91770679e-02  7.80621959e-02  4.15485509e-01  1.67125026e-02\n",
      "  -2.10281362e-01  3.78675693e-01  8.41971652e-02 -2.77766025e-01\n",
      "   4.09350539e-01  2.98921092e-01  4.95240110e-01  3.78675693e-01\n",
      "  -1.05986884e-01]\n",
      " [ 1.93145758e-01 -3.71271420e-01  1.87010789e-01  3.21980114e-01\n",
      "  -4.61180453e-02  3.15845145e-01 -4.08081235e-01 -3.40596573e-01\n",
      "  -1.62682462e-01  1.13391157e-01 -1.01332769e-01 -7.06579226e-02\n",
      "  -4.51026021e-01 -1.54431986e-02 -2.66976941e-01 -1.38142585e-01\n",
      "  -9.30822932e-03 -3.16056696e-01  2.29955574e-01 -1.13602708e-01\n",
      "  -3.40596573e-01  3.77194838e-01  3.21980114e-01  4.93759255e-01\n",
      "   2.17685636e-01  9.09667865e-03  3.36365560e-02  4.32409562e-01\n",
      "  -9.51977999e-02]\n",
      " [-7.65813412e-02 -4.20139623e-01  5.83879839e-02 -1.50200973e-01\n",
      "  -1.01121219e-01  9.30822932e-03  3.09921726e-01  2.79246880e-01\n",
      "   9.51977999e-02 -2.54495452e-01 -1.13391157e-01 -3.03575206e-01\n",
      "   3.59001481e-01  4.63295959e-01  2.11762217e-01 -3.64924900e-01\n",
      "   3.99830759e-02 -3.97715253e-02  4.87835837e-01 -2.91305268e-01\n",
      "  -2.42225513e-01 -1.19526127e-01 -2.11550666e-01  3.03786757e-01\n",
      "   2.36302094e-01  1.13602708e-01  2.60841972e-01 -1.44066004e-01\n",
      "  -3.95599746e-01]\n",
      " [-2.03088640e-02 -2.77977576e-01  4.88893590e-01 -2.28897821e-01\n",
      "  -1.49143220e-01 -3.57732177e-01  9.01205839e-02  3.23249418e-01\n",
      "   2.61899725e-01 -8.16585572e-02  2.00550032e-01 -3.14787392e-01\n",
      "   5.93188069e-01  4.33678866e-01 -2.41167760e-01 -1.00063465e-01\n",
      "  -1.36873281e-01 -2.53437698e-01 -1.49143220e-01  1.14660461e-01\n",
      "  -9.39284959e-02  9.01205839e-02 -3.63867146e-01 -2.16627882e-01\n",
      "   2.98709541e-01 -1.30738312e-01 -1.00063465e-01  1.82145124e-01\n",
      "   1.39200338e-01]\n",
      " [-4.12946901e-01  4.71757986e-02  2.61899725e-01  3.60059234e-01\n",
      "  -4.25216839e-01  3.29384388e-01 -3.57732177e-01 -5.71186799e-02\n",
      "  -3.51597208e-01 -4.68161625e-01 -6.32536492e-02  3.66194204e-01\n",
      "   9.62555532e-02 -4.12946901e-01  2.06685001e-01  5.13433467e-01\n",
      "   1.02390523e-01 -4.49756717e-01  3.17114449e-01  2.92574572e-01\n",
      "  -2.65707637e-01 -1.12333404e-01  2.18954940e-01 -1.24603343e-01\n",
      "   4.23101333e-03  4.39813835e-01  3.96869050e-01 -3.14787392e-01\n",
      "  -1.36873281e-01]\n",
      " [ 4.25005289e-01  3.63655596e-01 -2.43706368e-01 -2.28474720e-02\n",
      "   2.16416332e-01  9.37169452e-02 -3.54135816e-01  1.69240533e-03\n",
      "  -1.39411889e-01  4.37275227e-01 -4.15485509e-01 -5.35223186e-02\n",
      "   2.34821240e-01 -7.19272266e-02 -2.68246245e-01 -2.06896552e-01\n",
      "  -4.82970171e-01 -4.03215570e-01  2.83900994e-01  2.71631056e-01\n",
      "  -4.15485509e-01  1.61201608e-01 -3.97080601e-01  3.23672520e-02\n",
      "   1.48931669e-01  1.48931669e-01  3.14575841e-01 -3.51174106e-02\n",
      "   3.75925534e-01]\n",
      " [-5.24645653e-02  3.21768564e-01 -1.50624074e-01 -2.67188492e-01\n",
      "   4.75142797e-01  3.64713349e-01 -2.18108737e-01 -2.79246880e-02\n",
      "  -1.75163952e-01 -2.18108737e-01 -2.61053522e-01 -1.19949228e-01\n",
      "   2.11550666e-02 -3.65348001e-01  7.63697906e-02  5.18299133e-02\n",
      "  -4.26697694e-01  4.69007827e-01 -1.99703829e-01  3.03363656e-01\n",
      "   2.84958748e-01 -2.97863338e-01  4.56949439e-02 -1.62894013e-01\n",
      "  -3.77617939e-01  5.30357521e-01  1.49989422e-01  1.74529300e-01\n",
      "   5.18299133e-02]\n",
      " [-3.11402581e-01 -5.32261477e-01  1.79394965e-01 -4.14639306e-02\n",
      "   3.81848953e-01  3.87983922e-01  2.40744658e-01 -4.95451661e-01\n",
      "   3.32769198e-01 -3.54347366e-01 -5.01586630e-01 -8.44087159e-02\n",
      "   4.12523799e-01 -3.91157182e-01  8.73704252e-02 -1.27353501e-01\n",
      "   1.48085466e-03 -2.74592765e-01  2.89824413e-01  2.40744658e-01\n",
      "   2.46879628e-01  3.57309076e-01 -1.88703194e-01  7.61582399e-03\n",
      "  -4.65411466e-03  3.26634229e-01 -4.65411466e-03 -2.86862704e-01\n",
      "   1.05775333e-01]\n",
      " [-4.97144066e-02  3.36788661e-01 -3.74444680e-02  1.89549397e-01\n",
      "   3.30653692e-01  3.00401946e-02 -1.90818701e-01 -3.01248149e-01\n",
      "   3.36788661e-01  3.49058600e-01 -2.88978210e-01 -1.11064100e-01\n",
      "  -3.01248149e-01 -3.81002750e-01  3.73598477e-01 -3.93272689e-01\n",
      "  -4.35794373e-02 -1.90818701e-01 -4.48487413e-01 -4.05542627e-01\n",
      "   3.61328538e-01  4.59488047e-01  4.22678231e-01  4.53353078e-01\n",
      "   2.39052253e-02  3.24518722e-01 -3.93272689e-01 -4.05542627e-01\n",
      "  -4.97144066e-02]\n",
      " [-2.29320922e-01 -3.52020309e-01  3.41231225e-01 -1.00486567e-01\n",
      "   2.36936746e-01  3.65771102e-01 -3.15210493e-01 -4.56314787e-01\n",
      "  -3.39750370e-01  4.70065581e-01  3.22826317e-01 -3.15210493e-01\n",
      "   1.63317114e-01 -2.90670616e-01 -2.72265708e-01  2.67611593e-01\n",
      "  -8.46202666e-03 -4.56314787e-01  2.67611593e-01  1.63317114e-01\n",
      "   4.67526973e-02  1.51047176e-01  4.06177279e-02  4.02580918e-01\n",
      "   2.22128200e-02  7.12925746e-02 -2.84535646e-01  4.06177279e-02\n",
      "   4.67526973e-02]\n",
      " [-2.91939920e-01  3.52231860e-01  2.04992596e-01 -2.81362386e-02\n",
      "   2.04992596e-01 -2.67400042e-01 -7.10810239e-02 -3.10344828e-01\n",
      "   1.43642902e-01  3.03152105e-01 -6.49460546e-02 -9.73133065e-03\n",
      "   2.90882166e-01 -2.61265073e-01  3.09287074e-01  2.70784853e-02\n",
      "  -3.83964459e-01  8.22932092e-02  1.37507933e-01  2.11127565e-01\n",
      "  -2.36725196e-01  6.38883012e-02  4.07446583e-01 -3.22614766e-01\n",
      "   4.50391369e-01 -7.72159932e-02 -3.28749736e-01 -2.61265073e-01\n",
      "  -2.73535012e-01]\n",
      " [-1.78337212e-01 -8.01777026e-02 -2.70361752e-01 -3.74656230e-01\n",
      "  -9.85826105e-02  4.29024751e-01 -2.70361752e-01  4.86566533e-02\n",
      "  -1.10852549e-01  2.14300825e-01  2.63380580e-01  1.46816162e-01\n",
      "  -3.62386292e-01  5.71186799e-03  3.00190396e-01 -1.41527396e-01\n",
      "  -1.04717580e-01 -3.19441506e-01  1.89760948e-01  3.37000212e-01\n",
      "  -1.04717580e-01  2.26570764e-01  2.20435794e-01 -3.93061138e-01\n",
      "   1.10006347e-01 -3.56251322e-01 -8.63126719e-02  3.18595304e-01\n",
      "   4.41294690e-01]\n",
      " [ 2.93420774e-01 -3.75290882e-01  8.48318172e-02 -4.24370637e-01\n",
      "   2.62745928e-01  3.97715253e-01  3.11825682e-01 -4.05965729e-01\n",
      "  -4.85720330e-01  1.33911572e-01 -4.97990269e-01  1.03236725e-01\n",
      "   3.11825682e-01 -4.67315422e-01  7.25618786e-02 -7.46773852e-02\n",
      "  -2.03511741e-01 -9.92172625e-02  2.07531204e-01 -1.23757140e-01\n",
      "   1.52316480e-01 -1.66701925e-01 -3.26211128e-01  2.93420774e-01\n",
      "   1.89126296e-01  3.05690713e-01  4.80220013e-02  3.91580283e-01\n",
      "   9.09667865e-02]\n",
      " [-3.16056696e-01  3.83329807e-01  3.03575206e-01 -2.05627248e-01\n",
      "   4.32409562e-01  3.71059869e-01  4.38544531e-01 -4.38756082e-01\n",
      "   1.25661096e-01 -2.60841972e-01 -1.01332769e-01 -3.95811297e-01\n",
      "   3.58789930e-01 -3.95811297e-01  5.81764333e-02  2.72900360e-01\n",
      "   2.79035329e-01 -2.17897186e-01  2.85170298e-01 -4.32621113e-01\n",
      "  -4.61180453e-02  2.91305268e-01 -5.12375714e-01  4.69219378e-01\n",
      "   3.89464777e-01  2.13666173e-02 -4.32621113e-01 -5.06240745e-01\n",
      "  -2.17897186e-01]\n",
      " [-3.88618574e-01  3.23037868e-01 -3.88618574e-01 -2.66553840e-02\n",
      "   4.58007193e-01 -4.99048022e-01 -2.11550666e-03  4.45737254e-01\n",
      "  -4.37698329e-01  3.90522530e-01  8.99090332e-02 -1.12544955e-01\n",
      "  -4.25428390e-01 -2.96594034e-01  2.18743389e-01 -4.00888513e-01\n",
      "   1.32853818e-01  4.21197377e-01 -6.96001692e-02 -6.96001692e-02\n",
      "   4.69642479e-02 -6.96001692e-02  4.58007193e-01  3.78252591e-01\n",
      "  -2.05204146e-02  3.84387561e-01 -3.57943728e-01 -2.78189126e-01\n",
      "   9.60440025e-02]\n",
      " [-4.77046753e-01 -5.98688386e-02 -2.37782949e-01  3.51174106e-01\n",
      "   1.97799873e-01 -4.75988999e-02  5.05606093e-02  2.34609689e-01\n",
      "   2.83689444e-01 -4.52506875e-01 -3.78887243e-01  1.73259996e-01\n",
      "  -1.88703194e-01  3.63444045e-01  1.05775333e-01 -3.48212397e-01\n",
      "   8.12354559e-02 -1.02813624e-01  5.05606093e-02  2.89824413e-01\n",
      "  -4.15697059e-01  2.16204781e-01  3.51174106e-01  1.67125026e-01\n",
      "  -2.25513010e-01  1.18045272e-01 -2.25513010e-01  9.96403639e-02\n",
      "   2.60207320e-02]\n",
      " [ 5.26761159e-02  8.33509626e-02 -4.25851491e-01 -5.17876031e-01\n",
      "   3.53289613e-01 -8.84281785e-02  3.04209858e-01 -4.07446583e-01\n",
      "   3.59424582e-01 -4.56526338e-01  3.16479797e-01 -1.48085466e-02\n",
      "   1.38565686e-01 -5.66955786e-01  3.10344828e-01  1.26295748e-01\n",
      "   3.10344828e-01  2.24455257e-01 -3.76771737e-01  3.41019674e-01\n",
      "  -1.00698117e-01 -5.48550878e-01  2.85804950e-01  4.65411466e-02\n",
      "   2.06050349e-01  2.98074889e-01  3.53289613e-01 -5.77533319e-02\n",
      "  -5.48550878e-01]\n",
      " [ 4.33678866e-01  2.86439602e-01  3.29384388e-01 -4.06811931e-01\n",
      "   1.08525492e-01 -3.57732177e-01  3.72329173e-01 -3.51597208e-01\n",
      "   3.29384388e-01 -1.67548128e-01  2.00550032e-01 -3.39327269e-01\n",
      "  -5.71186799e-02 -2.77977576e-01  8.39856146e-02 -3.87137719e-02\n",
      "  -1.55278189e-01 -1.98222974e-01  2.12819970e-01  9.01205839e-02\n",
      "  -1.85953036e-01  2.87708906e-02  3.53924265e-01 -4.37486778e-01\n",
      "   2.37359848e-01 -1.12333404e-01  7.17156759e-02 -3.57732177e-01\n",
      "   3.04844510e-01]\n",
      " [ 3.98561455e-01  2.75862069e-01 -2.11550666e-04  1.20583880e-02\n",
      "  -2.45610324e-01 -7.99661519e-02 -7.99661519e-02  5.50031733e-02\n",
      "   3.37211762e-01 -2.33340385e-01  3.49481701e-01  4.27332346e-02\n",
      "  -4.66469219e-01 -2.14935477e-01  3.06536916e-01  3.43346732e-01\n",
      "  -4.29659403e-01 -3.00825048e-01  1.40892744e-01 -1.71990692e-01\n",
      "   5.92341866e-03 -1.16775968e-01 -2.57880262e-01  3.06536916e-01\n",
      "  -3.70213666e-02 -2.11550666e-04 -4.60334250e-01  3.18806854e-01\n",
      "   2.02242437e-01]\n",
      " [-4.10408293e-01  4.60757351e-01 -2.26359213e-01 -3.73598477e-01\n",
      "   1.90818701e-01  4.17812566e-01 -3.00401946e-02  2.21493548e-01\n",
      "  -5.45800719e-02 -1.28199704e-01 -3.61751640e-02  4.97144066e-02\n",
      "   2.88978210e-01 -2.93843876e-01 -4.16543262e-01  4.05542627e-01\n",
      "  -4.10408293e-01  5.58493759e-02 -1.77279458e-01 -4.23101333e-02\n",
      "  -3.06113814e-01 -5.08567802e-01  3.62597842e-01  1.78548762e-01\n",
      "   2.70573302e-01  3.25788026e-01 -2.14089274e-01 -3.61751640e-02\n",
      "   4.36217474e-01]]\n"
     ]
    }
   ],
   "source": [
    "a = a - a.mean(axis=1).reshape(-1, 1)\n",
    "print(a)"
   ]
  },
  {
   "cell_type": "code",
   "execution_count": 17,
   "metadata": {},
   "outputs": [
    {
     "name": "stdout",
     "output_type": "stream",
     "text": [
      "[[ 2.39686905e-01 -5.71186799e-03  1.59932304e-01 -2.08165856e-01\n",
      "  -4.59699598e-01 -1.46816162e-01 -1.59086101e-01  3.19441506e-01\n",
      "   3.74656230e-01  1.90607150e-01 -3.98349905e-01  1.26930400e-02\n",
      "  -4.59699598e-01  2.33551936e-01 -2.63380580e-01 -1.40681193e-01\n",
      "   6.17727946e-02  3.37846414e-01  2.51956844e-01  8.63126719e-02\n",
      "   2.27416966e-01 -1.22276285e-01 -1.71356040e-01 -2.75650518e-01\n",
      "  -2.02030886e-01  1.59932304e-01  2.82631690e-01 -2.44975672e-01\n",
      "   3.19441506e-01]\n",
      " [-3.47154644e-01 -1.20160779e-01 -4.45314153e-01 -1.20160779e-01\n",
      "   4.31986461e-01 -2.61265073e-01 -1.07890840e-01 -1.93780410e-01\n",
      "  -2.55130104e-01 -4.65411466e-02 -1.69240533e-01  3.46096890e-01\n",
      "   4.07446583e-01 -1.69240533e-01  1.62047810e-01  3.58366829e-01\n",
      "  -2.73535012e-01 -1.01755871e-01 -4.65411466e-02  3.09287074e-01\n",
      "   2.17262534e-01  2.17262534e-01  3.58366829e-01  2.47937381e-01\n",
      "  -1.07890840e-01  6.38883012e-02 -5.12798815e-01  8.22932092e-02\n",
      "   7.61582399e-02]\n",
      " [-3.23460969e-01  3.45250688e-01  1.91876454e-01  3.63655596e-01\n",
      "   2.00973133e-02 -3.48000846e-01  3.39115718e-01  2.47091178e-01\n",
      "  -6.57922572e-02  3.39115718e-01  1.67336577e-01 -4.21620478e-01\n",
      "  -5.19779987e-01  1.30526761e-01 -5.13645018e-01  2.47091178e-01\n",
      "   2.53226148e-01 -7.19272266e-02  1.85741485e-01  4.25005289e-01\n",
      "  -2.00761582e-01 -9.03321345e-02  2.96170933e-01 -3.05056061e-01\n",
      "  -3.54135816e-01 -2.68246245e-01  7.82737466e-03  3.75925534e-01\n",
      "  -4.52295325e-01]\n",
      " [ 4.18870319e-02  2.32071081e-01  9.71017559e-02 -3.20076158e-01\n",
      "  -5.01375079e-02  7.86968479e-02  3.91580283e-01  6.02919399e-02\n",
      "   3.91580283e-01 -1.05352232e-01  2.87285805e-01 -1.91241802e-01\n",
      "  -4.36640575e-01  1.76856357e-01 -3.17326000e-02 -2.40321557e-01\n",
      "  -1.97376772e-01  2.87285805e-01 -3.07806220e-01 -4.24370637e-01\n",
      "  -4.73450391e-01  3.54770468e-01 -2.21916649e-01 -3.63020944e-01\n",
      "   2.38206050e-01  4.16120161e-01  1.82991326e-01 -2.21916649e-01\n",
      "   3.48635498e-01]\n",
      " [-4.40660038e-01 -7.25618786e-02  3.32346097e-01  1.36027078e-01\n",
      "   3.63020944e-01  4.40025386e-02  3.26211128e-01  4.42775545e-01\n",
      "  -3.17960652e-01  1.72836894e-01  1.72836894e-01 -2.87285805e-01\n",
      "   2.46456526e-01  1.42162048e-01 -2.68880897e-01 -1.64586418e-01\n",
      "  -1.21641633e-01 -4.95874762e-01  3.69155913e-01 -2.96170933e-02\n",
      "  -1.21641633e-01  3.44616036e-01  3.63020944e-01 -4.46795007e-01\n",
      "   2.40321557e-01 -1.33911572e-01 -1.33911572e-01 -4.34525069e-01\n",
      "  -2.25936112e-01]\n",
      " [ 3.68098160e-02 -3.06748466e-01 -1.04294479e-01 -1.77914110e-01\n",
      "  -3.00613497e-01 -4.35582822e-01  4.04907975e-01  1.41104294e-01\n",
      "   3.06748466e-01  1.90184049e-01  4.35582822e-01  2.57668712e-01\n",
      "   1.16564417e-01  2.02453988e-01 -2.26993865e-01 -2.26993865e-01\n",
      "  -1.96319018e-01  4.72392638e-01  7.97546012e-02 -4.17177914e-01\n",
      "  -2.33128834e-01  2.08588957e-01 -3.06748466e-01 -6.74846626e-02\n",
      "  -1.34969325e-01  4.23312883e-01 -5.52147239e-02 -2.45398773e-01\n",
      "   1.59509202e-01]\n",
      " [-4.47006558e-01 -1.70932938e-01  4.60968902e-01 -1.46393061e-01\n",
      "   4.11889147e-01 -3.36577110e-01 -6.05034906e-02 -2.69092448e-01\n",
      "  -2.50687540e-01  4.36429025e-01  4.79373810e-01  2.46244976e-01\n",
      "   1.54220436e-01  1.91030252e-01 -7.89083986e-02  3.93484239e-01\n",
      "   2.53860800e-02 -2.75227417e-01 -2.07742754e-01  3.15210493e-02\n",
      "   3.01459700e-01  1.17410620e-01 -4.10196742e-01  3.81214301e-01\n",
      "  -3.48847049e-01 -3.12037233e-01 -4.28601650e-01 -9.11783372e-02\n",
      "   2.03300190e-01]\n",
      " [-4.01946266e-03  2.59784218e-01  2.47514280e-01 -4.76412101e-01\n",
      "  -4.64142162e-01 -4.70277131e-01  2.11550666e-03 -2.55553205e-01\n",
      "   7.57351386e-02 -4.39602285e-01 -1.20583880e-01  4.56103237e-01\n",
      "   2.16839433e-01  1.24814893e-01 -1.14448911e-01  3.14998942e-01\n",
      "  -5.92341866e-02 -1.26718849e-01 -1.01544320e-02 -1.08313941e-01\n",
      "  -4.33467315e-01  6.34651999e-02 -2.24243706e-02  4.37698329e-01\n",
      "   3.02729004e-01  2.16839433e-01  1.12544955e-01  1.18679924e-01\n",
      "   1.55489740e-01]\n",
      " [ 3.52654961e-01  2.11550666e-01 -2.77131373e-02  4.75354347e-01\n",
      "   2.42225513e-01 -8.90628305e-02  1.62470912e-01  3.83329807e-01\n",
      "  -3.03786757e-01  2.75015866e-02 -2.91516818e-01 -1.81087370e-01\n",
      "  -2.85381849e-01 -2.15781680e-02  1.93145758e-01 -2.11762217e-01\n",
      "  -2.24032156e-01 -4.44891051e-01 -3.71271420e-01  2.36090544e-01\n",
      "   2.05415697e-01  6.43114026e-02  3.77194838e-01 -4.44891051e-01\n",
      "   1.50200973e-01 -4.32621113e-01  3.71059869e-01  1.25661096e-01\n",
      "  -2.48572033e-01]\n",
      " [ 5.35223186e-02 -4.31140258e-01 -1.91876454e-01 -3.94330442e-01\n",
      "   1.27141950e-01 -3.57520626e-01  5.96572879e-02 -1.39623440e-02\n",
      "  -9.37169452e-02 -4.37275227e-01 -9.37169452e-02 -4.49545166e-01\n",
      "   2.25301460e-01 -3.08440872e-01  1.76221705e-01  2.37571398e-01\n",
      "  -6.91770679e-02  7.80621959e-02  4.15485509e-01  1.67125026e-02\n",
      "  -2.10281362e-01  3.78675693e-01  8.41971652e-02 -2.77766025e-01\n",
      "   4.09350539e-01  2.98921092e-01  4.95240110e-01  3.78675693e-01\n",
      "  -1.05986884e-01]\n",
      " [ 1.93145758e-01 -3.71271420e-01  1.87010789e-01  3.21980114e-01\n",
      "  -4.61180453e-02  3.15845145e-01 -4.08081235e-01 -3.40596573e-01\n",
      "  -1.62682462e-01  1.13391157e-01 -1.01332769e-01 -7.06579226e-02\n",
      "  -4.51026021e-01 -1.54431986e-02 -2.66976941e-01 -1.38142585e-01\n",
      "  -9.30822932e-03 -3.16056696e-01  2.29955574e-01 -1.13602708e-01\n",
      "  -3.40596573e-01  3.77194838e-01  3.21980114e-01  4.93759255e-01\n",
      "   2.17685636e-01  9.09667865e-03  3.36365560e-02  4.32409562e-01\n",
      "  -9.51977999e-02]\n",
      " [-7.65813412e-02 -4.20139623e-01  5.83879839e-02 -1.50200973e-01\n",
      "  -1.01121219e-01  9.30822932e-03  3.09921726e-01  2.79246880e-01\n",
      "   9.51977999e-02 -2.54495452e-01 -1.13391157e-01 -3.03575206e-01\n",
      "   3.59001481e-01  4.63295959e-01  2.11762217e-01 -3.64924900e-01\n",
      "   3.99830759e-02 -3.97715253e-02  4.87835837e-01 -2.91305268e-01\n",
      "  -2.42225513e-01 -1.19526127e-01 -2.11550666e-01  3.03786757e-01\n",
      "   2.36302094e-01  1.13602708e-01  2.60841972e-01 -1.44066004e-01\n",
      "  -3.95599746e-01]\n",
      " [-2.03088640e-02 -2.77977576e-01  4.88893590e-01 -2.28897821e-01\n",
      "  -1.49143220e-01 -3.57732177e-01  9.01205839e-02  3.23249418e-01\n",
      "   2.61899725e-01 -8.16585572e-02  2.00550032e-01 -3.14787392e-01\n",
      "   5.93188069e-01  4.33678866e-01 -2.41167760e-01 -1.00063465e-01\n",
      "  -1.36873281e-01 -2.53437698e-01 -1.49143220e-01  1.14660461e-01\n",
      "  -9.39284959e-02  9.01205839e-02 -3.63867146e-01 -2.16627882e-01\n",
      "   2.98709541e-01 -1.30738312e-01 -1.00063465e-01  1.82145124e-01\n",
      "   1.39200338e-01]\n",
      " [-4.12946901e-01  4.71757986e-02  2.61899725e-01  3.60059234e-01\n",
      "  -4.25216839e-01  3.29384388e-01 -3.57732177e-01 -5.71186799e-02\n",
      "  -3.51597208e-01 -4.68161625e-01 -6.32536492e-02  3.66194204e-01\n",
      "   9.62555532e-02 -4.12946901e-01  2.06685001e-01  5.13433467e-01\n",
      "   1.02390523e-01 -4.49756717e-01  3.17114449e-01  2.92574572e-01\n",
      "  -2.65707637e-01 -1.12333404e-01  2.18954940e-01 -1.24603343e-01\n",
      "   4.23101333e-03  4.39813835e-01  3.96869050e-01 -3.14787392e-01\n",
      "  -1.36873281e-01]\n",
      " [ 4.25005289e-01  3.63655596e-01 -2.43706368e-01 -2.28474720e-02\n",
      "   2.16416332e-01  9.37169452e-02 -3.54135816e-01  1.69240533e-03\n",
      "  -1.39411889e-01  4.37275227e-01 -4.15485509e-01 -5.35223186e-02\n",
      "   2.34821240e-01 -7.19272266e-02 -2.68246245e-01 -2.06896552e-01\n",
      "  -4.82970171e-01 -4.03215570e-01  2.83900994e-01  2.71631056e-01\n",
      "  -4.15485509e-01  1.61201608e-01 -3.97080601e-01  3.23672520e-02\n",
      "   1.48931669e-01  1.48931669e-01  3.14575841e-01 -3.51174106e-02\n",
      "   3.75925534e-01]\n",
      " [-5.24645653e-02  3.21768564e-01 -1.50624074e-01 -2.67188492e-01\n",
      "   4.75142797e-01  3.64713349e-01 -2.18108737e-01 -2.79246880e-02\n",
      "  -1.75163952e-01 -2.18108737e-01 -2.61053522e-01 -1.19949228e-01\n",
      "   2.11550666e-02 -3.65348001e-01  7.63697906e-02  5.18299133e-02\n",
      "  -4.26697694e-01  4.69007827e-01 -1.99703829e-01  3.03363656e-01\n",
      "   2.84958748e-01 -2.97863338e-01  4.56949439e-02 -1.62894013e-01\n",
      "  -3.77617939e-01  5.30357521e-01  1.49989422e-01  1.74529300e-01\n",
      "   5.18299133e-02]\n",
      " [-3.11402581e-01 -5.32261477e-01  1.79394965e-01 -4.14639306e-02\n",
      "   3.81848953e-01  3.87983922e-01  2.40744658e-01 -4.95451661e-01\n",
      "   3.32769198e-01 -3.54347366e-01 -5.01586630e-01 -8.44087159e-02\n",
      "   4.12523799e-01 -3.91157182e-01  8.73704252e-02 -1.27353501e-01\n",
      "   1.48085466e-03 -2.74592765e-01  2.89824413e-01  2.40744658e-01\n",
      "   2.46879628e-01  3.57309076e-01 -1.88703194e-01  7.61582399e-03\n",
      "  -4.65411466e-03  3.26634229e-01 -4.65411466e-03 -2.86862704e-01\n",
      "   1.05775333e-01]\n",
      " [-4.97144066e-02  3.36788661e-01 -3.74444680e-02  1.89549397e-01\n",
      "   3.30653692e-01  3.00401946e-02 -1.90818701e-01 -3.01248149e-01\n",
      "   3.36788661e-01  3.49058600e-01 -2.88978210e-01 -1.11064100e-01\n",
      "  -3.01248149e-01 -3.81002750e-01  3.73598477e-01 -3.93272689e-01\n",
      "  -4.35794373e-02 -1.90818701e-01 -4.48487413e-01 -4.05542627e-01\n",
      "   3.61328538e-01  4.59488047e-01  4.22678231e-01  4.53353078e-01\n",
      "   2.39052253e-02  3.24518722e-01 -3.93272689e-01 -4.05542627e-01\n",
      "  -4.97144066e-02]\n",
      " [-2.29320922e-01 -3.52020309e-01  3.41231225e-01 -1.00486567e-01\n",
      "   2.36936746e-01  3.65771102e-01 -3.15210493e-01 -4.56314787e-01\n",
      "  -3.39750370e-01  4.70065581e-01  3.22826317e-01 -3.15210493e-01\n",
      "   1.63317114e-01 -2.90670616e-01 -2.72265708e-01  2.67611593e-01\n",
      "  -8.46202666e-03 -4.56314787e-01  2.67611593e-01  1.63317114e-01\n",
      "   4.67526973e-02  1.51047176e-01  4.06177279e-02  4.02580918e-01\n",
      "   2.22128200e-02  7.12925746e-02 -2.84535646e-01  4.06177279e-02\n",
      "   4.67526973e-02]\n",
      " [-2.91939920e-01  3.52231860e-01  2.04992596e-01 -2.81362386e-02\n",
      "   2.04992596e-01 -2.67400042e-01 -7.10810239e-02 -3.10344828e-01\n",
      "   1.43642902e-01  3.03152105e-01 -6.49460546e-02 -9.73133065e-03\n",
      "   2.90882166e-01 -2.61265073e-01  3.09287074e-01  2.70784853e-02\n",
      "  -3.83964459e-01  8.22932092e-02  1.37507933e-01  2.11127565e-01\n",
      "  -2.36725196e-01  6.38883012e-02  4.07446583e-01 -3.22614766e-01\n",
      "   4.50391369e-01 -7.72159932e-02 -3.28749736e-01 -2.61265073e-01\n",
      "  -2.73535012e-01]\n",
      " [-1.78337212e-01 -8.01777026e-02 -2.70361752e-01 -3.74656230e-01\n",
      "  -9.85826105e-02  4.29024751e-01 -2.70361752e-01  4.86566533e-02\n",
      "  -1.10852549e-01  2.14300825e-01  2.63380580e-01  1.46816162e-01\n",
      "  -3.62386292e-01  5.71186799e-03  3.00190396e-01 -1.41527396e-01\n",
      "  -1.04717580e-01 -3.19441506e-01  1.89760948e-01  3.37000212e-01\n",
      "  -1.04717580e-01  2.26570764e-01  2.20435794e-01 -3.93061138e-01\n",
      "   1.10006347e-01 -3.56251322e-01 -8.63126719e-02  3.18595304e-01\n",
      "   4.41294690e-01]\n",
      " [ 2.93420774e-01 -3.75290882e-01  8.48318172e-02 -4.24370637e-01\n",
      "   2.62745928e-01  3.97715253e-01  3.11825682e-01 -4.05965729e-01\n",
      "  -4.85720330e-01  1.33911572e-01 -4.97990269e-01  1.03236725e-01\n",
      "   3.11825682e-01 -4.67315422e-01  7.25618786e-02 -7.46773852e-02\n",
      "  -2.03511741e-01 -9.92172625e-02  2.07531204e-01 -1.23757140e-01\n",
      "   1.52316480e-01 -1.66701925e-01 -3.26211128e-01  2.93420774e-01\n",
      "   1.89126296e-01  3.05690713e-01  4.80220013e-02  3.91580283e-01\n",
      "   9.09667865e-02]\n",
      " [-3.16056696e-01  3.83329807e-01  3.03575206e-01 -2.05627248e-01\n",
      "   4.32409562e-01  3.71059869e-01  4.38544531e-01 -4.38756082e-01\n",
      "   1.25661096e-01 -2.60841972e-01 -1.01332769e-01 -3.95811297e-01\n",
      "   3.58789930e-01 -3.95811297e-01  5.81764333e-02  2.72900360e-01\n",
      "   2.79035329e-01 -2.17897186e-01  2.85170298e-01 -4.32621113e-01\n",
      "  -4.61180453e-02  2.91305268e-01 -5.12375714e-01  4.69219378e-01\n",
      "   3.89464777e-01  2.13666173e-02 -4.32621113e-01 -5.06240745e-01\n",
      "  -2.17897186e-01]\n",
      " [-3.88618574e-01  3.23037868e-01 -3.88618574e-01 -2.66553840e-02\n",
      "   4.58007193e-01 -4.99048022e-01 -2.11550666e-03  4.45737254e-01\n",
      "  -4.37698329e-01  3.90522530e-01  8.99090332e-02 -1.12544955e-01\n",
      "  -4.25428390e-01 -2.96594034e-01  2.18743389e-01 -4.00888513e-01\n",
      "   1.32853818e-01  4.21197377e-01 -6.96001692e-02 -6.96001692e-02\n",
      "   4.69642479e-02 -6.96001692e-02  4.58007193e-01  3.78252591e-01\n",
      "  -2.05204146e-02  3.84387561e-01 -3.57943728e-01 -2.78189126e-01\n",
      "   9.60440025e-02]\n",
      " [-4.77046753e-01 -5.98688386e-02 -2.37782949e-01  3.51174106e-01\n",
      "   1.97799873e-01 -4.75988999e-02  5.05606093e-02  2.34609689e-01\n",
      "   2.83689444e-01 -4.52506875e-01 -3.78887243e-01  1.73259996e-01\n",
      "  -1.88703194e-01  3.63444045e-01  1.05775333e-01 -3.48212397e-01\n",
      "   8.12354559e-02 -1.02813624e-01  5.05606093e-02  2.89824413e-01\n",
      "  -4.15697059e-01  2.16204781e-01  3.51174106e-01  1.67125026e-01\n",
      "  -2.25513010e-01  1.18045272e-01 -2.25513010e-01  9.96403639e-02\n",
      "   2.60207320e-02]\n",
      " [ 5.26761159e-02  8.33509626e-02 -4.25851491e-01 -5.17876031e-01\n",
      "   3.53289613e-01 -8.84281785e-02  3.04209858e-01 -4.07446583e-01\n",
      "   3.59424582e-01 -4.56526338e-01  3.16479797e-01 -1.48085466e-02\n",
      "   1.38565686e-01 -5.66955786e-01  3.10344828e-01  1.26295748e-01\n",
      "   3.10344828e-01  2.24455257e-01 -3.76771737e-01  3.41019674e-01\n",
      "  -1.00698117e-01 -5.48550878e-01  2.85804950e-01  4.65411466e-02\n",
      "   2.06050349e-01  2.98074889e-01  3.53289613e-01 -5.77533319e-02\n",
      "  -5.48550878e-01]\n",
      " [ 4.33678866e-01  2.86439602e-01  3.29384388e-01 -4.06811931e-01\n",
      "   1.08525492e-01 -3.57732177e-01  3.72329173e-01 -3.51597208e-01\n",
      "   3.29384388e-01 -1.67548128e-01  2.00550032e-01 -3.39327269e-01\n",
      "  -5.71186799e-02 -2.77977576e-01  8.39856146e-02 -3.87137719e-02\n",
      "  -1.55278189e-01 -1.98222974e-01  2.12819970e-01  9.01205839e-02\n",
      "  -1.85953036e-01  2.87708906e-02  3.53924265e-01 -4.37486778e-01\n",
      "   2.37359848e-01 -1.12333404e-01  7.17156759e-02 -3.57732177e-01\n",
      "   3.04844510e-01]\n",
      " [ 3.98561455e-01  2.75862069e-01 -2.11550666e-04  1.20583880e-02\n",
      "  -2.45610324e-01 -7.99661519e-02 -7.99661519e-02  5.50031733e-02\n",
      "   3.37211762e-01 -2.33340385e-01  3.49481701e-01  4.27332346e-02\n",
      "  -4.66469219e-01 -2.14935477e-01  3.06536916e-01  3.43346732e-01\n",
      "  -4.29659403e-01 -3.00825048e-01  1.40892744e-01 -1.71990692e-01\n",
      "   5.92341866e-03 -1.16775968e-01 -2.57880262e-01  3.06536916e-01\n",
      "  -3.70213666e-02 -2.11550666e-04 -4.60334250e-01  3.18806854e-01\n",
      "   2.02242437e-01]\n",
      " [-4.10408293e-01  4.60757351e-01 -2.26359213e-01 -3.73598477e-01\n",
      "   1.90818701e-01  4.17812566e-01 -3.00401946e-02  2.21493548e-01\n",
      "  -5.45800719e-02 -1.28199704e-01 -3.61751640e-02  4.97144066e-02\n",
      "   2.88978210e-01 -2.93843876e-01 -4.16543262e-01  4.05542627e-01\n",
      "  -4.10408293e-01  5.58493759e-02 -1.77279458e-01 -4.23101333e-02\n",
      "  -3.06113814e-01 -5.08567802e-01  3.62597842e-01  1.78548762e-01\n",
      "   2.70573302e-01  3.25788026e-01 -2.14089274e-01 -3.61751640e-02\n",
      "   4.36217474e-01]]\n"
     ]
    }
   ],
   "source": [
    "a[a==mx] = -1\n",
    "print(a)"
   ]
  },
  {
   "cell_type": "code",
   "execution_count": 18,
   "metadata": {},
   "outputs": [
    {
     "data": {
      "image/png": "[encoded data removed]",
      "text/plain": [
       "<Figure size 432x288 with 1 Axes>"
      ]
     },
     "metadata": {
      "needs_background": "light"
     },
     "output_type": "display_data"
    }
   ],
   "source": [
    "import timeit\n",
    "import time\n",
    "import matplotlib.pyplot as plt\n",
    "import numpy as np\n",
    "import random\n",
    "\n",
    "def python(n):\n",
    "    start = time.time()\n",
    "    A = [[random.randint(0, 20) for j in range(n)] for i in range(n)] \n",
    "    B = [[random.randint(0, 20) for j in range(n)] for i in range(n)] \n",
    "    C = [[0 for i in range(n)] for j in range(n)]\n",
    "    for i in range(n):\n",
    "        for j in range(n):\n",
    "            for k in range(n):\n",
    "                C[i][j] += A[i][k]*B[k][j]\n",
    "    return time.time() - start\n",
    "\n",
    "def numpy(n):\n",
    "    start = time.time()\n",
    "    A = np.random.randint(0, 20, (n, n))\n",
    "    B = np.random.randint(0, 20, (n, n))\n",
    "    C = np.dot(A, B)\n",
    "    return time.time() - start\n",
    "\n",
    "n = np.arange(5, 50, 5)\n",
    "tpy = []\n",
    "tnumpy = []\n",
    "for i in n:\n",
    "    mpy = 0.0\n",
    "    mnumpy = 0.0\n",
    "    for j in range(10): \n",
    "        mpy += python(i)\n",
    "        mnumpy += numpy(i)\n",
    "    tpy.append(mpy/10)    \n",
    "    tnumpy.append(mnumpy/10)    \n",
    "\n",
    "plt.plot(n, tpy, n, tnumpy)\n",
    "plt.show()\n"
   ]
  },
  {
   "cell_type": "code",
   "execution_count": 23,
   "metadata": {},
   "outputs": [
    {
     "name": "stdout",
     "output_type": "stream",
     "text": [
      "the file contains:\n",
      "[1. 2. 3. 4. 5. 6. 7. 8. 9.]\n"
     ]
    }
   ],
   "source": [
    "x = np.arange(1, 10)\n",
    "np.savetxt('test.txt', x, fmt='%.i')\n",
    "a = np.loadtxt(\"test.txt\") \n",
    "  \n",
    "print(\"the file contains:\") \n",
    "print(a)"
   ]
  },
  {
   "cell_type": "code",
   "execution_count": 8,
   "metadata": {},
   "outputs": [
    {
     "name": "stdout",
     "output_type": "stream",
     "text": [
      "[19 10 13 12 16 12  9 18 13  3]\n",
      "3\n"
     ]
    }
   ],
   "source": [
    "def find_nearest(array, value):\n",
    "    idx = (np.abs(array-value)).argmin()\n",
    "    return array[idx]\n",
    "\n",
    "a = np.random.randint(0, 20, 10)\n",
    "print(a)\n",
    "value = 0.5\n",
    "print(find_nearest(a, value))"
   ]
  },
  {
   "cell_type": "code",
   "execution_count": 29,
   "metadata": {},
   "outputs": [
    {
     "name": "stdout",
     "output_type": "stream",
     "text": [
      "[1 4 5 6 8 9]\n"
     ]
    }
   ],
   "source": [
    "a = np.array([1, 2, 3, 4, 5, 6, 7, 8, 9])\n",
    "b = np.array([3,2,7])\n",
    "c = np.setdiff1d(a,b)\n",
    "\n",
    "print(c)"
   ]
  },
  {
   "cell_type": "code",
   "execution_count": 12,
   "metadata": {},
   "outputs": [
    {
     "name": "stdout",
     "output_type": "stream",
     "text": [
      "[[4 1]\n",
      " [1 2]]\n",
      "[[3 1]\n",
      " [3 1]]\n",
      "[[15  5]\n",
      " [ 9  3]]\n"
     ]
    }
   ],
   "source": [
    "n=2\n",
    "A = np.random.randint(1, 5, (n, n))\n",
    "B = np.random.randint(1, 5, (n, n))\n",
    "C = np.dot(A, B)\n",
    "print(A)\n",
    "print(B)\n",
    "print(C)"
   ]
  },
  {
   "cell_type": "code",
   "execution_count": null,
   "metadata": {},
   "outputs": [],
   "source": []
  }
 ],
 "metadata": {
  "kernelspec": {
   "display_name": "Python 3",
   "language": "python",
   "name": "python3"
  },
  "language_info": {
   "codemirror_mode": {
    "name": "ipython",
    "version": 3
   },
   "file_extension": ".py",
   "mimetype": "text/x-python",
   "name": "python",
   "nbconvert_exporter": "python",
   "pygments_lexer": "ipython3",
   "version": "3.7.1"
  }
 },
 "nbformat": 4,
 "nbformat_minor": 2
}
